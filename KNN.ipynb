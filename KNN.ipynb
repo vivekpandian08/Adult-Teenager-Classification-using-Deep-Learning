{
 "cells": [
  {
   "cell_type": "markdown",
   "metadata": {},
   "source": [
    "# K Nearest Neighbors"
   ]
  },
  {
   "cell_type": "markdown",
   "metadata": {},
   "source": [
    "###  Notebook Contents:\n",
    "\n",
    "1. Import the packages that I need.\n",
    "2. Read in merged_df from datasets.\n",
    "3. Set my X and Y variables for train_test_split.\n",
    "4. Create custom stop words and unionize them with English stopwords.\n",
    "5. Create pipeline for models.\n",
    "6. Run KNN model with two transformers.\n",
    "    - CountVectorizer.\n",
    "    - TfidfVectorizer.\n",
    "7. Use best_params_ that will display the best parameters and play with the parameters to get the best possible score.\n",
    "8. Print out specificty scores using a confusion_matrix.\n",
    "9. Create a misclassification dataframe.\n",
    "    - Visualize what rows of data were misclassified.\n",
    "    - Look for common trends.\n",
    "10. Create a visualization of the most misclassified words."
   ]
  },
  {
   "cell_type": "code",
   "execution_count": 1,
   "metadata": {},
   "outputs": [
    {
     "name": "stderr",
     "output_type": "stream",
     "text": [
      "C:\\Users\\nolan_fur2pfn\\.conda\\envs\\dsi\\lib\\site-packages\\numpy\\_distributor_init.py:32: UserWarning: loaded more than 1 DLL from .libs:\n",
      "C:\\Users\\nolan_fur2pfn\\.conda\\envs\\dsi\\lib\\site-packages\\numpy\\.libs\\libopenblas.NOIJJG62EMASZI6NYURL6JBKM4EVBGM7.gfortran-win_amd64.dll\n",
      "C:\\Users\\nolan_fur2pfn\\.conda\\envs\\dsi\\lib\\site-packages\\numpy\\.libs\\libopenblas.PYQHXLVVQ7VESDPUVUADXEVJOBGHJPAY.gfortran-win_amd64.dll\n",
      "  stacklevel=1)\n"
     ]
    }
   ],
   "source": [
    "import pandas as pd\n",
    "import numpy as np\n",
    "import matplotlib.pyplot as plt\n",
    "from sklearn.neighbors import KNeighborsClassifier, NeighborhoodComponentsAnalysis\n",
    "from sklearn.pipeline import Pipeline\n",
    "from sklearn.feature_extraction.text import CountVectorizer, TfidfVectorizer\n",
    "from sklearn.model_selection import train_test_split, GridSearchCV, cross_val_score\n",
    "from sklearn.feature_extraction import text\n",
    "from sklearn.metrics import confusion_matrix, plot_confusion_matrix"
   ]
  },
  {
   "cell_type": "code",
   "execution_count": 2,
   "metadata": {},
   "outputs": [],
   "source": [
    "# Reading in merged dataframe\n",
    "merged_df = pd.read_csv('./data/merged_subreddits.csv')\n",
    "# Setting mergeddataframe to only the columns I want\n",
    "merged_df = merged_df[['user_post', 'subreddit']]"
   ]
  },
  {
   "cell_type": "code",
   "execution_count": 3,
   "metadata": {},
   "outputs": [],
   "source": [
    "# Setting X and Y variables\n",
    "\n",
    "# Set X to user_post column\n",
    "X = merged_df['user_post']\n",
    "# Set y to subreddit column\n",
    "y = merged_df['subreddit']"
   ]
  },
  {
   "cell_type": "code",
   "execution_count": 4,
   "metadata": {},
   "outputs": [
    {
     "data": {
      "text/plain": [
       "0    0.513568\n",
       "1    0.486432\n",
       "Name: subreddit, dtype: float64"
      ]
     },
     "execution_count": 4,
     "metadata": {},
     "output_type": "execute_result"
    }
   ],
   "source": [
    "# The baseline score I will attempt to beat\n",
    "y.value_counts(normalize=True)"
   ]
  },
  {
   "cell_type": "code",
   "execution_count": 5,
   "metadata": {},
   "outputs": [],
   "source": [
    "# Train test split\n",
    "X_train, X_test, y_train, y_test = train_test_split(X, y, test_size = .25, stratify = y, random_state = 42)"
   ]
  },
  {
   "cell_type": "code",
   "execution_count": 6,
   "metadata": {},
   "outputs": [],
   "source": [
    "# Creating custom stop words. Made to remove profanity that teenagers like to use!\n",
    "# Will add the custom stop words with English stop words and test as a paremeter.\n",
    "my_stops = ['cum', 've', 'don', 'just', 'like', 'filler', '0001', 'know', 'want', 'really', 'good', \n",
    "            'going', 'feel', 'got','think', 'https', 'gt', 'com', 'im', 'things', 'talk', 'll', 'amp', \n",
    "            'way', 'did', 'day', 'make', 'shit' , 'life', 'said', 'new', 'people', 'fucking', 'say', 'wanna']\n",
    "\n",
    "# Setting variable stops as a union of English stop words and my custom stop words, my_stops.\n",
    "stops = text.ENGLISH_STOP_WORDS.union(my_stops)"
   ]
  },
  {
   "cell_type": "markdown",
   "metadata": {},
   "source": [
    "## Pipeline / KNN / CountVectorizer"
   ]
  },
  {
   "cell_type": "code",
   "execution_count": 7,
   "metadata": {},
   "outputs": [],
   "source": [
    "# Setting pipeline for cvec\n",
    "# Using CountVectorizer and KNeighborsClassifier\n",
    "pipe = Pipeline([\n",
    "    ('cvec', CountVectorizer()),\n",
    "    ('knn', KNeighborsClassifier())\n",
    "])\n",
    "\n",
    "# Setting parameters for cvec pipe\n",
    "pipe_params = {\n",
    "    'cvec__max_features': [1_000, 2_000],\n",
    "    'cvec__min_df': [4, 5],\n",
    "    'cvec__max_df': [.75, .80],\n",
    "    'cvec__ngram_range': [(1,1)],\n",
    "    'cvec__stop_words' : [None]\n",
    "}"
   ]
  },
  {
   "cell_type": "code",
   "execution_count": 8,
   "metadata": {},
   "outputs": [],
   "source": [
    "# Instatiate GridSearch with pipe, paramaters and crossvals as 5\n",
    "gs = GridSearchCV(pipe, param_grid=pipe_params, cv=5)"
   ]
  },
  {
   "cell_type": "code",
   "execution_count": 9,
   "metadata": {},
   "outputs": [
    {
     "data": {
      "text/plain": [
       "{'cvec__max_df': 0.75,\n",
       " 'cvec__max_features': 1000,\n",
       " 'cvec__min_df': 4,\n",
       " 'cvec__ngram_range': (1, 1),\n",
       " 'cvec__stop_words': None}"
      ]
     },
     "execution_count": 9,
     "metadata": {},
     "output_type": "execute_result"
    }
   ],
   "source": [
    "# Fitting training data.\n",
    "gs.fit(X_train, y_train)\n",
    "\n",
    "# Finding best parameters from KNN CountVectorizer\n",
    "gs.best_params_"
   ]
  },
  {
   "cell_type": "code",
   "execution_count": 10,
   "metadata": {},
   "outputs": [
    {
     "name": "stdout",
     "output_type": "stream",
     "text": [
      "KNN CountVectorizer Score\n",
      "_________________________________\n",
      "Best Score: 0.7491978609625669\n",
      "\n",
      "Training Score: 0.8122994652406417\n",
      "\n",
      "Testing Score: 0.7536076964190273\n",
      "\n",
      "Cross Val Score: 0.7349376114081997\n"
     ]
    }
   ],
   "source": [
    "print(\"KNN CountVectorizer Score\")\n",
    "print(\"_________________________________\")\n",
    "# The best score\n",
    "print(\"Best Score:\", gs.best_score_)\n",
    "print(\"\")\n",
    "# Score model on training set\n",
    "print(\"Training Score:\", gs.score(X_train, y_train))\n",
    "print(\"\")\n",
    "# Score model on testing set\n",
    "print(\"Testing Score:\", gs.score(X_test, y_test))\n",
    "print(\"\")\n",
    "# Estimate how your model will perform on unseen data\n",
    "print(\"Cross Val Score:\", cross_val_score(pipe, X_train, y_train, cv=5).mean()) "
   ]
  },
  {
   "cell_type": "markdown",
   "metadata": {},
   "source": [
    "## Pipeline / KNN / TfidfVectorizer"
   ]
  },
  {
   "cell_type": "code",
   "execution_count": 11,
   "metadata": {},
   "outputs": [],
   "source": [
    "# Setting up a pipeline for my KNN Model with TfidfVectorizer\n",
    "pipe_tvec = Pipeline([\n",
    "    ('tvec', TfidfVectorizer()),\n",
    "    ('knn', KNeighborsClassifier())\n",
    "])\n",
    "\n",
    "# Setting parameters for cvec pipe\n",
    "pipe_tvec_params = {\n",
    "    'tvec__max_features': [2_000],\n",
    "    'tvec__stop_words': [None],\n",
    "    'tvec__ngram_range': [(1,1)]\n",
    "}"
   ]
  },
  {
   "cell_type": "code",
   "execution_count": 12,
   "metadata": {},
   "outputs": [],
   "source": [
    "# Instantiating GridSearch for my KNN TfdifVectorizer, cross val of 5\n",
    "gs_tvec = GridSearchCV(pipe_tvec, param_grid=pipe_tvec_params, cv=5)"
   ]
  },
  {
   "cell_type": "code",
   "execution_count": 13,
   "metadata": {},
   "outputs": [
    {
     "data": {
      "text/plain": [
       "{'tvec__max_features': 2000,\n",
       " 'tvec__ngram_range': (1, 1),\n",
       " 'tvec__stop_words': None}"
      ]
     },
     "execution_count": 13,
     "metadata": {},
     "output_type": "execute_result"
    }
   ],
   "source": [
    "# Fitting my gridsearch on X_train, y_train\n",
    "gs_tvec.fit(X_train, y_train)\n",
    "\n",
    "# Finding best parameters from KNN TfidifVectorizer\n",
    "gs_tvec.best_params_"
   ]
  },
  {
   "cell_type": "code",
   "execution_count": 14,
   "metadata": {},
   "outputs": [
    {
     "name": "stdout",
     "output_type": "stream",
     "text": [
      "KNN TfidfVectorizer Score\n",
      "_________________________________\n",
      "Best Score: 0.5985739750445633\n",
      "\n",
      "Training Score: 0.5449197860962567\n",
      "\n",
      "Testing Score: 0.5371459112773918\n",
      "\n",
      "Cross Val Score: 0.8401069518716578\n"
     ]
    }
   ],
   "source": [
    "print(\"KNN TfidfVectorizer Score\")\n",
    "print(\"_________________________________\")\n",
    "# The best score\n",
    "print(\"Best Score:\",gs_tvec.best_score_)\n",
    "print(\"\")\n",
    "# Score model on training set\n",
    "print(\"Training Score:\", gs_tvec.score(X_train, y_train))\n",
    "print(\"\")\n",
    "# Score model on testing set\n",
    "print(\"Testing Score:\", gs_tvec.score(X_test, y_test))\n",
    "print(\"\")\n",
    "# Estimate how your model will perform on unseen data\n",
    "print(\"Cross Val Score:\", cross_val_score(pipe_tvec, X_train, y_train, cv=5).mean()) "
   ]
  },
  {
   "cell_type": "markdown",
   "metadata": {},
   "source": [
    "# Misclassification"
   ]
  },
  {
   "cell_type": "code",
   "execution_count": 16,
   "metadata": {},
   "outputs": [
    {
     "data": {
      "text/html": [
       "<div>\n",
       "<style scoped>\n",
       "    .dataframe tbody tr th:only-of-type {\n",
       "        vertical-align: middle;\n",
       "    }\n",
       "\n",
       "    .dataframe tbody tr th {\n",
       "        vertical-align: top;\n",
       "    }\n",
       "\n",
       "    .dataframe thead th {\n",
       "        text-align: right;\n",
       "    }\n",
       "</style>\n",
       "<table border=\"1\" class=\"dataframe\">\n",
       "  <thead>\n",
       "    <tr style=\"text-align: right;\">\n",
       "      <th></th>\n",
       "      <th>actual_subreddit</th>\n",
       "      <th>predicted_subreddit</th>\n",
       "      <th>misclass</th>\n",
       "      <th>whole_post</th>\n",
       "    </tr>\n",
       "  </thead>\n",
       "  <tbody>\n",
       "    <tr>\n",
       "      <th>2492</th>\n",
       "      <td>Teenagers</td>\n",
       "      <td>Teenagers</td>\n",
       "      <td>No</td>\n",
       "      <td>Posting pics of Hugo everyday to cheer you up ...</td>\n",
       "    </tr>\n",
       "    <tr>\n",
       "      <th>7011</th>\n",
       "      <td>Adulting</td>\n",
       "      <td>Teenagers</td>\n",
       "      <td>Yes</td>\n",
       "      <td>Games to play with no alcohol? I hope this is ...</td>\n",
       "    </tr>\n",
       "    <tr>\n",
       "      <th>180</th>\n",
       "      <td>Teenagers</td>\n",
       "      <td>Teenagers</td>\n",
       "      <td>No</td>\n",
       "      <td>Click here for another surprise! \\n&amp;gt;!\\n⣿⣿⣿⣿...</td>\n",
       "    </tr>\n",
       "    <tr>\n",
       "      <th>4332</th>\n",
       "      <td>Adulting</td>\n",
       "      <td>Adulting</td>\n",
       "      <td>No</td>\n",
       "      <td>I have a nearly one-hour drive one way to my n...</td>\n",
       "    </tr>\n",
       "    <tr>\n",
       "      <th>6378</th>\n",
       "      <td>Adulting</td>\n",
       "      <td>Adulting</td>\n",
       "      <td>No</td>\n",
       "      <td>Adults do their taxes! Anyone used the free si...</td>\n",
       "    </tr>\n",
       "    <tr>\n",
       "      <th>959</th>\n",
       "      <td>Teenagers</td>\n",
       "      <td>Teenagers</td>\n",
       "      <td>No</td>\n",
       "      <td>Just asked out my crush and she said yes, what...</td>\n",
       "    </tr>\n",
       "    <tr>\n",
       "      <th>860</th>\n",
       "      <td>Teenagers</td>\n",
       "      <td>Teenagers</td>\n",
       "      <td>No</td>\n",
       "      <td>Free award for anyone that can make me laugh! ...</td>\n",
       "    </tr>\n",
       "    <tr>\n",
       "      <th>5279</th>\n",
       "      <td>Adulting</td>\n",
       "      <td>Teenagers</td>\n",
       "      <td>Yes</td>\n",
       "      <td>Im confused! I’m a 17 turning 18 on May. I hav...</td>\n",
       "    </tr>\n",
       "    <tr>\n",
       "      <th>6348</th>\n",
       "      <td>Adulting</td>\n",
       "      <td>Adulting</td>\n",
       "      <td>No</td>\n",
       "      <td>I am older, 44. I quit my \"good\" professional ...</td>\n",
       "    </tr>\n",
       "    <tr>\n",
       "      <th>2539</th>\n",
       "      <td>Teenagers</td>\n",
       "      <td>Teenagers</td>\n",
       "      <td>No</td>\n",
       "      <td>My crush just confessed to me kin the smoothes...</td>\n",
       "    </tr>\n",
       "  </tbody>\n",
       "</table>\n",
       "</div>"
      ],
      "text/plain": [
       "     actual_subreddit predicted_subreddit misclass  \\\n",
       "2492        Teenagers           Teenagers       No   \n",
       "7011         Adulting           Teenagers      Yes   \n",
       "180         Teenagers           Teenagers       No   \n",
       "4332         Adulting            Adulting       No   \n",
       "6378         Adulting            Adulting       No   \n",
       "959         Teenagers           Teenagers       No   \n",
       "860         Teenagers           Teenagers       No   \n",
       "5279         Adulting           Teenagers      Yes   \n",
       "6348         Adulting            Adulting       No   \n",
       "2539        Teenagers           Teenagers       No   \n",
       "\n",
       "                                             whole_post  \n",
       "2492  Posting pics of Hugo everyday to cheer you up ...  \n",
       "7011  Games to play with no alcohol? I hope this is ...  \n",
       "180   Click here for another surprise! \\n&gt;!\\n⣿⣿⣿⣿...  \n",
       "4332  I have a nearly one-hour drive one way to my n...  \n",
       "6378  Adults do their taxes! Anyone used the free si...  \n",
       "959   Just asked out my crush and she said yes, what...  \n",
       "860   Free award for anyone that can make me laugh! ...  \n",
       "5279  Im confused! I’m a 17 turning 18 on May. I hav...  \n",
       "6348  I am older, 44. I quit my \"good\" professional ...  \n",
       "2539  My crush just confessed to me kin the smoothes...  "
      ]
     },
     "execution_count": 16,
     "metadata": {},
     "output_type": "execute_result"
    }
   ],
   "source": [
    "# Variable preds to gridsearch prediction of X_test\n",
    "preds = gs.predict(X_test)\n",
    "\n",
    "# Setting knn_misclass_df as a dataframe using data as y_test\n",
    "knn_misclass_df = pd.DataFrame(data = y_test)\n",
    "\n",
    "# Renaming subreddit as actual_subreddit for readability purposes\n",
    "knn_misclass_df = knn_misclass_df.rename({'subreddit' : 'actual_subreddit'}, axis = 1)\n",
    "\n",
    "# Setting predicted_subreddit as preds\n",
    "knn_misclass_df['predicted_subreddit'] = preds\n",
    "\n",
    "# Creating column misclass that subtracts predicted subreddit from actual subreddit\n",
    "knn_misclass_df['misclass'] = knn_misclass_df['actual_subreddit'] - knn_misclass_df['predicted_subreddit']\n",
    "\n",
    "# Creating column whole_post that is equal to X_test\n",
    "knn_misclass_df['whole_post'] = X_test\n",
    "\n",
    "# Mapping actual subreddit Adults as 1 and Teenagers as 0 for readability purposes\n",
    "knn_misclass_df[\"actual_subreddit\"] = knn_misclass_df[\"actual_subreddit\"].map({1:\"Adulting\", 0:\"Teenagers\"})\n",
    "\n",
    "# Mapping predicted subreddit Adults as 1 and Teenagers as 0 for readability purposes \n",
    "knn_misclass_df[\"predicted_subreddit\"] = knn_misclass_df[\"predicted_subreddit\"].map({1:\"Adulting\", 0:\"Teenagers\"})\n",
    "\n",
    "# Mapping misclass Yes as 1 and No as 0 for readability purposes\n",
    "knn_misclass_df[\"misclass\"] = knn_misclass_df[\"misclass\"].map({1:\"Yes\", 0:\"No\"})\n",
    "\n",
    "# Removing misclass columns where it is not equal to 0\n",
    "knn_misclass_df = knn_misclass_df[knn_misclass_df['misclass'] != 0]\n",
    "\n",
    "# Visualizing first ten rows of dataframe I created\n",
    "knn_misclass_df[0:10]"
   ]
  },
  {
   "cell_type": "code",
   "execution_count": 21,
   "metadata": {},
   "outputs": [
    {
     "data": {
      "text/html": [
       "<div>\n",
       "<style scoped>\n",
       "    .dataframe tbody tr th:only-of-type {\n",
       "        vertical-align: middle;\n",
       "    }\n",
       "\n",
       "    .dataframe tbody tr th {\n",
       "        vertical-align: top;\n",
       "    }\n",
       "\n",
       "    .dataframe thead th {\n",
       "        text-align: right;\n",
       "    }\n",
       "</style>\n",
       "<table border=\"1\" class=\"dataframe\">\n",
       "  <thead>\n",
       "    <tr style=\"text-align: right;\">\n",
       "      <th></th>\n",
       "      <th>actual_subreddit</th>\n",
       "      <th>predicted_subreddit</th>\n",
       "      <th>misclass</th>\n",
       "      <th>whole_post</th>\n",
       "    </tr>\n",
       "  </thead>\n",
       "  <tbody>\n",
       "    <tr>\n",
       "      <th>7011</th>\n",
       "      <td>Adulting</td>\n",
       "      <td>Teenagers</td>\n",
       "      <td>Yes</td>\n",
       "      <td>Games to play with no alcohol? I hope this is ...</td>\n",
       "    </tr>\n",
       "    <tr>\n",
       "      <th>5279</th>\n",
       "      <td>Adulting</td>\n",
       "      <td>Teenagers</td>\n",
       "      <td>Yes</td>\n",
       "      <td>Im confused! I’m a 17 turning 18 on May. I hav...</td>\n",
       "    </tr>\n",
       "    <tr>\n",
       "      <th>7214</th>\n",
       "      <td>Adulting</td>\n",
       "      <td>Teenagers</td>\n",
       "      <td>Yes</td>\n",
       "      <td>How to prove income to a (potential) landlord?...</td>\n",
       "    </tr>\n",
       "    <tr>\n",
       "      <th>7369</th>\n",
       "      <td>Adulting</td>\n",
       "      <td>Teenagers</td>\n",
       "      <td>Yes</td>\n",
       "      <td>Signing papers for my first apartment tomorrow...</td>\n",
       "    </tr>\n",
       "    <tr>\n",
       "      <th>4914</th>\n",
       "      <td>Adulting</td>\n",
       "      <td>Teenagers</td>\n",
       "      <td>Yes</td>\n",
       "      <td>Lets talk file cabinets So I am trying to get ...</td>\n",
       "    </tr>\n",
       "    <tr>\n",
       "      <th>...</th>\n",
       "      <td>...</td>\n",
       "      <td>...</td>\n",
       "      <td>...</td>\n",
       "      <td>...</td>\n",
       "    </tr>\n",
       "    <tr>\n",
       "      <th>4785</th>\n",
       "      <td>Adulting</td>\n",
       "      <td>Teenagers</td>\n",
       "      <td>Yes</td>\n",
       "      <td>Help with first job tax forms I just got my fi...</td>\n",
       "    </tr>\n",
       "    <tr>\n",
       "      <th>4912</th>\n",
       "      <td>Adulting</td>\n",
       "      <td>Teenagers</td>\n",
       "      <td>Yes</td>\n",
       "      <td>I gave my cat her medicine with no assistance ...</td>\n",
       "    </tr>\n",
       "    <tr>\n",
       "      <th>5784</th>\n",
       "      <td>Adulting</td>\n",
       "      <td>Teenagers</td>\n",
       "      <td>Yes</td>\n",
       "      <td>What does Terminated mean on my credit report?...</td>\n",
       "    </tr>\n",
       "    <tr>\n",
       "      <th>5467</th>\n",
       "      <td>Adulting</td>\n",
       "      <td>Teenagers</td>\n",
       "      <td>Yes</td>\n",
       "      <td>Stain removal I have two shirts that have been...</td>\n",
       "    </tr>\n",
       "    <tr>\n",
       "      <th>7096</th>\n",
       "      <td>Adulting</td>\n",
       "      <td>Teenagers</td>\n",
       "      <td>Yes</td>\n",
       "      <td>I conquered frozen vegetables. I added them at...</td>\n",
       "    </tr>\n",
       "  </tbody>\n",
       "</table>\n",
       "<p>380 rows × 4 columns</p>\n",
       "</div>"
      ],
      "text/plain": [
       "     actual_subreddit predicted_subreddit misclass  \\\n",
       "7011         Adulting           Teenagers      Yes   \n",
       "5279         Adulting           Teenagers      Yes   \n",
       "7214         Adulting           Teenagers      Yes   \n",
       "7369         Adulting           Teenagers      Yes   \n",
       "4914         Adulting           Teenagers      Yes   \n",
       "...               ...                 ...      ...   \n",
       "4785         Adulting           Teenagers      Yes   \n",
       "4912         Adulting           Teenagers      Yes   \n",
       "5784         Adulting           Teenagers      Yes   \n",
       "5467         Adulting           Teenagers      Yes   \n",
       "7096         Adulting           Teenagers      Yes   \n",
       "\n",
       "                                             whole_post  \n",
       "7011  Games to play with no alcohol? I hope this is ...  \n",
       "5279  Im confused! I’m a 17 turning 18 on May. I hav...  \n",
       "7214  How to prove income to a (potential) landlord?...  \n",
       "7369  Signing papers for my first apartment tomorrow...  \n",
       "4914  Lets talk file cabinets So I am trying to get ...  \n",
       "...                                                 ...  \n",
       "4785  Help with first job tax forms I just got my fi...  \n",
       "4912  I gave my cat her medicine with no assistance ...  \n",
       "5784  What does Terminated mean on my credit report?...  \n",
       "5467  Stain removal I have two shirts that have been...  \n",
       "7096  I conquered frozen vegetables. I added them at...  \n",
       "\n",
       "[380 rows x 4 columns]"
      ]
     },
     "execution_count": 21,
     "metadata": {},
     "output_type": "execute_result"
    }
   ],
   "source": [
    "# Variable knn_test_misclass set to where misclassification columns equals Yes\n",
    "knn_test_misclass = knn_misclass_df[knn_misclass_df['misclass'] == 'Yes']\n",
    "# Visualizing misclassifications as a dataframe\n",
    "knn_test_misclass"
   ]
  },
  {
   "cell_type": "code",
   "execution_count": 22,
   "metadata": {},
   "outputs": [
    {
     "data": {
      "text/html": [
       "<div>\n",
       "<style scoped>\n",
       "    .dataframe tbody tr th:only-of-type {\n",
       "        vertical-align: middle;\n",
       "    }\n",
       "\n",
       "    .dataframe tbody tr th {\n",
       "        vertical-align: top;\n",
       "    }\n",
       "\n",
       "    .dataframe thead th {\n",
       "        text-align: right;\n",
       "    }\n",
       "</style>\n",
       "<table border=\"1\" class=\"dataframe\">\n",
       "  <thead>\n",
       "    <tr style=\"text-align: right;\">\n",
       "      <th></th>\n",
       "      <th>actual_subreddit</th>\n",
       "      <th>predicted_subreddit</th>\n",
       "      <th>misclass</th>\n",
       "      <th>whole_post</th>\n",
       "    </tr>\n",
       "  </thead>\n",
       "  <tbody>\n",
       "  </tbody>\n",
       "</table>\n",
       "</div>"
      ],
      "text/plain": [
       "Empty DataFrame\n",
       "Columns: [actual_subreddit, predicted_subreddit, misclass, whole_post]\n",
       "Index: []"
      ]
     },
     "execution_count": 22,
     "metadata": {},
     "output_type": "execute_result"
    }
   ],
   "source": [
    "# Using EDA to visualze any misclassifications that were from Teenagers.\n",
    "# None!\n",
    "knn_test_misclass[knn_test_misclass['actual_subreddit'] == 'Teenagers']"
   ]
  },
  {
   "cell_type": "code",
   "execution_count": 23,
   "metadata": {},
   "outputs": [
    {
     "data": {
      "image/png": "[encoded data removed]",
      "text/plain": [
       "<Figure size 720x432 with 1 Axes>"
      ]
     },
     "metadata": {
      "needs_background": "light"
     },
     "output_type": "display_data"
    }
   ],
   "source": [
    "# Variable misclass_cvec as countvectorizer using my custom stopwords\n",
    "misclass_cvec = CountVectorizer(stop_words = stops)\n",
    "# Variable X set as whole_post column\n",
    "X = knn_test_misclass['whole_post']\n",
    "# Fit X on misclass_cvec\n",
    "misclass_cvec.fit(X)\n",
    "# X_trans variable as transformed X\n",
    "X_trans = misclass_cvec.transform(X)\n",
    "\n",
    "# Variable X_trans as a dataframe using .todense() and get_feature_names()\n",
    "X_trans = pd.DataFrame(X_trans.todense(), \n",
    "                 columns=misclass_cvec.get_feature_names())\n",
    "\n",
    "# Setting figure size\n",
    "plt.figure(figsize = [10, 6])\n",
    "# Visualizing common words using .sum() in descending order\n",
    "X_trans.sum().sort_values(ascending = False).head(10).plot(kind='barh');\n",
    "\n",
    "# Setting title for figure/vizualization\n",
    "plt.title(\"KNN Misclassification\", size = 20)\n",
    "# Label for X axis\n",
    "plt.xlabel(\"Count\", size = 15)\n",
    "# Label for y axis\n",
    "plt.ylabel(\"Word\", size = 15)\n",
    "\n",
    "# Saving figure of misclassifications so that I can use in my \n",
    "plt.savefig(\"./images/misclassified_knn.png\")"
   ]
  }
 ],
 "metadata": {
  "kernelspec": {
   "display_name": "Python 3",
   "language": "python",
   "name": "python3"
  },
  "language_info": {
   "codemirror_mode": {
    "name": "ipython",
    "version": 3
   },
   "file_extension": ".py",
   "mimetype": "text/x-python",
   "name": "python",
   "nbconvert_exporter": "python",
   "pygments_lexer": "ipython3",
   "version": "3.7.9"
  }
 },
 "nbformat": 4,
 "nbformat_minor": 4
}
