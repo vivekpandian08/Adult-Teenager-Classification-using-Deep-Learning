{
 "cells": [
  {
   "cell_type": "markdown",
   "metadata": {},
   "source": [
    "# Modeling"
   ]
  },
  {
   "cell_type": "markdown",
   "metadata": {},
   "source": [
    "###  Notebook Contents:\n",
    "\n",
    "1. Import the packages that I need.\n",
    "2. Read in merged_df from datasets.\n",
    "3. Set my X and Y variables for train_test_split.\n",
    "4. Create custom stop words and unionize them with English stopwords.\n",
    "5. Create visualizations\n",
    "    - Most common words of merged_df\n",
    "    - Most common words of teenagers_df\n",
    "    - Most common words of adulting_df\n",
    "6. Create pipeline for models.\n",
    "7. Run NaiveBayes model with two transformers.\n",
    "    - CountVectorizer.\n",
    "    - TfidfVectorizer.\n",
    "8. Use best_params_ that will display the best parameters and play with the parameters to get the best possible score.\n",
    "9. Print out specificty scores using a confusion_matrix.\n",
    "10. Create a misclassification dataframe.\n",
    "    - Visualize what rows of data were misclassified.\n",
    "    - Look for common trends.\n",
    "11. Create a visualization of the most misclassified words."
   ]
  },
  {
   "cell_type": "code",
   "execution_count": 1,
   "metadata": {},
   "outputs": [
    {
     "name": "stderr",
     "output_type": "stream",
     "text": [
      "C:\\Users\\nolan_fur2pfn\\.conda\\envs\\dsi\\lib\\site-packages\\numpy\\_distributor_init.py:32: UserWarning: loaded more than 1 DLL from .libs:\n",
      "C:\\Users\\nolan_fur2pfn\\.conda\\envs\\dsi\\lib\\site-packages\\numpy\\.libs\\libopenblas.NOIJJG62EMASZI6NYURL6JBKM4EVBGM7.gfortran-win_amd64.dll\n",
      "C:\\Users\\nolan_fur2pfn\\.conda\\envs\\dsi\\lib\\site-packages\\numpy\\.libs\\libopenblas.PYQHXLVVQ7VESDPUVUADXEVJOBGHJPAY.gfortran-win_amd64.dll\n",
      "  stacklevel=1)\n"
     ]
    }
   ],
   "source": [
    "# Importing packages that I will need\n",
    "import pandas as pd\n",
    "import matplotlib.pyplot as plt\n",
    "from sklearn.model_selection import train_test_split, GridSearchCV, cross_val_score\n",
    "from sklearn.pipeline import Pipeline\n",
    "from sklearn.naive_bayes import MultinomialNB\n",
    "from sklearn.linear_model import LogisticRegression\n",
    "from sklearn.metrics import confusion_matrix, plot_confusion_matrix\n",
    "from sklearn.feature_extraction import text\n",
    "\n",
    "# Import CountVectorizer and TFIDFVectorizer from feature_extraction.text.\n",
    "from sklearn.feature_extraction.text import CountVectorizer, TfidfVectorizer"
   ]
  },
  {
   "cell_type": "code",
   "execution_count": 2,
   "metadata": {
    "scrolled": true
   },
   "outputs": [
    {
     "data": {
      "text/html": [
       "<div>\n",
       "<style scoped>\n",
       "    .dataframe tbody tr th:only-of-type {\n",
       "        vertical-align: middle;\n",
       "    }\n",
       "\n",
       "    .dataframe tbody tr th {\n",
       "        vertical-align: top;\n",
       "    }\n",
       "\n",
       "    .dataframe thead th {\n",
       "        text-align: right;\n",
       "    }\n",
       "</style>\n",
       "<table border=\"1\" class=\"dataframe\">\n",
       "  <thead>\n",
       "    <tr style=\"text-align: right;\">\n",
       "      <th></th>\n",
       "      <th>title</th>\n",
       "      <th>selftext</th>\n",
       "      <th>user_post</th>\n",
       "      <th>subreddit</th>\n",
       "      <th>tokenized</th>\n",
       "    </tr>\n",
       "  </thead>\n",
       "  <tbody>\n",
       "    <tr>\n",
       "      <th>0</th>\n",
       "      <td>They say that at least one person has a crush ...</td>\n",
       "      <td>But damn I wish whoever had a crush on me woul...</td>\n",
       "      <td>They say that at least one person has a crush ...</td>\n",
       "      <td>0</td>\n",
       "      <td>[\"they say that at least one person has a crus...</td>\n",
       "    </tr>\n",
       "    <tr>\n",
       "      <th>1</th>\n",
       "      <td>i need to lose 80 pounds immediately</td>\n",
       "      <td>my ass is 220 pounds and 5’6”. im fucking 15. ...</td>\n",
       "      <td>i need to lose 80 pounds immediately my ass is...</td>\n",
       "      <td>0</td>\n",
       "      <td>['i need to lose 80 pounds immediately my ass ...</td>\n",
       "    </tr>\n",
       "    <tr>\n",
       "      <th>2</th>\n",
       "      <td>i wanna drink hydrochloric acid</td>\n",
       "      <td>​​​​​ ​​​​​​ ​​​​​​ ​​​​​​​​ ​​​​​​​​​​​​​​​​​...</td>\n",
       "      <td>i wanna drink hydrochloric acid ​​​​​ ​​​​​​ ​...</td>\n",
       "      <td>0</td>\n",
       "      <td>['i wanna drink hydrochloric acid \\u200b\\u200b...</td>\n",
       "    </tr>\n",
       "    <tr>\n",
       "      <th>3</th>\n",
       "      <td>Ask me weirdly personal questions part 3 (seri...</td>\n",
       "      <td>Idk why I'm doing this, I guess it's fun and l...</td>\n",
       "      <td>Ask me weirdly personal questions part 3 (seri...</td>\n",
       "      <td>0</td>\n",
       "      <td>[\"ask me weirdly personal questions part 3 (se...</td>\n",
       "    </tr>\n",
       "    <tr>\n",
       "      <th>4</th>\n",
       "      <td>Dear teen boys,</td>\n",
       "      <td>If a girl you have a crush on says she's not i...</td>\n",
       "      <td>Dear teen boys, If a girl you have a crush on ...</td>\n",
       "      <td>0</td>\n",
       "      <td>[\"dear teen boys, if a girl you have a crush o...</td>\n",
       "    </tr>\n",
       "  </tbody>\n",
       "</table>\n",
       "</div>"
      ],
      "text/plain": [
       "                                               title  \\\n",
       "0  They say that at least one person has a crush ...   \n",
       "1               i need to lose 80 pounds immediately   \n",
       "2                    i wanna drink hydrochloric acid   \n",
       "3  Ask me weirdly personal questions part 3 (seri...   \n",
       "4                                    Dear teen boys,   \n",
       "\n",
       "                                            selftext  \\\n",
       "0  But damn I wish whoever had a crush on me woul...   \n",
       "1  my ass is 220 pounds and 5’6”. im fucking 15. ...   \n",
       "2  ​​​​​ ​​​​​​ ​​​​​​ ​​​​​​​​ ​​​​​​​​​​​​​​​​​...   \n",
       "3  Idk why I'm doing this, I guess it's fun and l...   \n",
       "4  If a girl you have a crush on says she's not i...   \n",
       "\n",
       "                                           user_post  subreddit  \\\n",
       "0  They say that at least one person has a crush ...          0   \n",
       "1  i need to lose 80 pounds immediately my ass is...          0   \n",
       "2  i wanna drink hydrochloric acid ​​​​​ ​​​​​​ ​...          0   \n",
       "3  Ask me weirdly personal questions part 3 (seri...          0   \n",
       "4  Dear teen boys, If a girl you have a crush on ...          0   \n",
       "\n",
       "                                           tokenized  \n",
       "0  [\"they say that at least one person has a crus...  \n",
       "1  ['i need to lose 80 pounds immediately my ass ...  \n",
       "2  ['i wanna drink hydrochloric acid \\u200b\\u200b...  \n",
       "3  [\"ask me weirdly personal questions part 3 (se...  \n",
       "4  [\"dear teen boys, if a girl you have a crush o...  "
      ]
     },
     "execution_count": 2,
     "metadata": {},
     "output_type": "execute_result"
    }
   ],
   "source": [
    "# Reading in my merged_dataframe of Teenagers and Adults\n",
    "merged_df = pd.read_csv('./data/merged_subreddits.csv')\n",
    "# Visualizing my merged_dataframe\n",
    "merged_df.head()"
   ]
  },
  {
   "cell_type": "code",
   "execution_count": 3,
   "metadata": {},
   "outputs": [
    {
     "data": {
      "text/html": [
       "<div>\n",
       "<style scoped>\n",
       "    .dataframe tbody tr th:only-of-type {\n",
       "        vertical-align: middle;\n",
       "    }\n",
       "\n",
       "    .dataframe tbody tr th {\n",
       "        vertical-align: top;\n",
       "    }\n",
       "\n",
       "    .dataframe thead th {\n",
       "        text-align: right;\n",
       "    }\n",
       "</style>\n",
       "<table border=\"1\" class=\"dataframe\">\n",
       "  <thead>\n",
       "    <tr style=\"text-align: right;\">\n",
       "      <th></th>\n",
       "      <th>user_post</th>\n",
       "      <th>subreddit</th>\n",
       "    </tr>\n",
       "  </thead>\n",
       "  <tbody>\n",
       "    <tr>\n",
       "      <th>0</th>\n",
       "      <td>They say that at least one person has a crush ...</td>\n",
       "      <td>0</td>\n",
       "    </tr>\n",
       "    <tr>\n",
       "      <th>1</th>\n",
       "      <td>i need to lose 80 pounds immediately my ass is...</td>\n",
       "      <td>0</td>\n",
       "    </tr>\n",
       "    <tr>\n",
       "      <th>2</th>\n",
       "      <td>i wanna drink hydrochloric acid ​​​​​ ​​​​​​ ​...</td>\n",
       "      <td>0</td>\n",
       "    </tr>\n",
       "    <tr>\n",
       "      <th>3</th>\n",
       "      <td>Ask me weirdly personal questions part 3 (seri...</td>\n",
       "      <td>0</td>\n",
       "    </tr>\n",
       "    <tr>\n",
       "      <th>4</th>\n",
       "      <td>Dear teen boys, If a girl you have a crush on ...</td>\n",
       "      <td>0</td>\n",
       "    </tr>\n",
       "    <tr>\n",
       "      <th>...</th>\n",
       "      <td>...</td>\n",
       "      <td>...</td>\n",
       "    </tr>\n",
       "    <tr>\n",
       "      <th>7476</th>\n",
       "      <td>How to get a car without any help from family ...</td>\n",
       "      <td>1</td>\n",
       "    </tr>\n",
       "    <tr>\n",
       "      <th>7477</th>\n",
       "      <td>Has anyone tried HelloFresh or any other food ...</td>\n",
       "      <td>1</td>\n",
       "    </tr>\n",
       "    <tr>\n",
       "      <th>7478</th>\n",
       "      <td>Move and find a job or find a job and move fir...</td>\n",
       "      <td>1</td>\n",
       "    </tr>\n",
       "    <tr>\n",
       "      <th>7479</th>\n",
       "      <td>How to convince South Asian parents that I nee...</td>\n",
       "      <td>1</td>\n",
       "    </tr>\n",
       "    <tr>\n",
       "      <th>7480</th>\n",
       "      <td>Tell me like I'm 5 - how the hell do washers e...</td>\n",
       "      <td>1</td>\n",
       "    </tr>\n",
       "  </tbody>\n",
       "</table>\n",
       "<p>7481 rows × 2 columns</p>\n",
       "</div>"
      ],
      "text/plain": [
       "                                              user_post  subreddit\n",
       "0     They say that at least one person has a crush ...          0\n",
       "1     i need to lose 80 pounds immediately my ass is...          0\n",
       "2     i wanna drink hydrochloric acid ​​​​​ ​​​​​​ ​...          0\n",
       "3     Ask me weirdly personal questions part 3 (seri...          0\n",
       "4     Dear teen boys, If a girl you have a crush on ...          0\n",
       "...                                                 ...        ...\n",
       "7476  How to get a car without any help from family ...          1\n",
       "7477  Has anyone tried HelloFresh or any other food ...          1\n",
       "7478  Move and find a job or find a job and move fir...          1\n",
       "7479  How to convince South Asian parents that I nee...          1\n",
       "7480  Tell me like I'm 5 - how the hell do washers e...          1\n",
       "\n",
       "[7481 rows x 2 columns]"
      ]
     },
     "execution_count": 3,
     "metadata": {},
     "output_type": "execute_result"
    }
   ],
   "source": [
    "# Setting my merged_df and which columns I want to look at\n",
    "merged_df = merged_df[['user_post', 'subreddit']]\n",
    "# Visualizing my merged_df with the columns I selected\n",
    "merged_df"
   ]
  },
  {
   "cell_type": "code",
   "execution_count": 4,
   "metadata": {},
   "outputs": [],
   "source": [
    "# Setting my X variable as user_post\n",
    "X = merged_df['user_post']\n",
    "# Setting my y variable as subreddit\n",
    "y = merged_df['subreddit']"
   ]
  },
  {
   "cell_type": "code",
   "execution_count": 5,
   "metadata": {},
   "outputs": [
    {
     "data": {
      "text/plain": [
       "0    0.513568\n",
       "1    0.486432\n",
       "Name: subreddit, dtype: float64"
      ]
     },
     "execution_count": 5,
     "metadata": {},
     "output_type": "execute_result"
    }
   ],
   "source": [
    "# Check what we need to check in a classification model.\n",
    "# This is my baseline score that I wish to improve upon\n",
    "y.value_counts(normalize=True)"
   ]
  },
  {
   "cell_type": "code",
   "execution_count": 6,
   "metadata": {},
   "outputs": [],
   "source": [
    "# Split the data into the training and testing sets.\n",
    "X_train, X_test, y_train, y_test = train_test_split(X, y, test_size = 0.25, stratify = y, random_state = 42)"
   ]
  },
  {
   "cell_type": "code",
   "execution_count": 7,
   "metadata": {},
   "outputs": [],
   "source": [
    "# Instantiate a CountVectorizer with the default hyperparameters.\n",
    "cvec = CountVectorizer()"
   ]
  },
  {
   "cell_type": "code",
   "execution_count": 8,
   "metadata": {},
   "outputs": [
    {
     "data": {
      "text/plain": [
       "CountVectorizer()"
      ]
     },
     "execution_count": 8,
     "metadata": {},
     "output_type": "execute_result"
    }
   ],
   "source": [
    "# Fit the vectorizer on our data.\n",
    "cvec.fit(X_train)"
   ]
  },
  {
   "cell_type": "code",
   "execution_count": 9,
   "metadata": {},
   "outputs": [],
   "source": [
    "# Transform user_post\n",
    "X_train_tf = cvec.transform(X_train)"
   ]
  },
  {
   "cell_type": "code",
   "execution_count": 10,
   "metadata": {},
   "outputs": [
    {
     "data": {
      "text/plain": [
       "(5610,)"
      ]
     },
     "execution_count": 10,
     "metadata": {},
     "output_type": "execute_result"
    }
   ],
   "source": [
    "# Looking at the shape of X_train\n",
    "X_train.shape"
   ]
  },
  {
   "cell_type": "code",
   "execution_count": 11,
   "metadata": {
    "scrolled": true
   },
   "outputs": [
    {
     "data": {
      "text/plain": [
       "['cube',\n",
       " 'cubicle',\n",
       " 'cuck',\n",
       " 'cucumbers',\n",
       " 'cuddle',\n",
       " 'cuddles',\n",
       " 'cuddling',\n",
       " 'cul',\n",
       " 'culinary',\n",
       " 'cult']"
      ]
     },
     "execution_count": 11,
     "metadata": {},
     "output_type": "execute_result"
    }
   ],
   "source": [
    "# Getting feature names around the middle of my dataset\n",
    "cvec.get_feature_names()[5000:5010]"
   ]
  },
  {
   "cell_type": "code",
   "execution_count": 12,
   "metadata": {},
   "outputs": [],
   "source": [
    "# Transforming test\n",
    "X_test_tf = cvec.transform(X_test)"
   ]
  },
  {
   "cell_type": "code",
   "execution_count": 13,
   "metadata": {},
   "outputs": [],
   "source": [
    "# Custom stop words that appear in my dataset.\n",
    "# This was mostly for removing profanity, darn teenagers.\n",
    "my_stops = ['cum', 've', 'don', 'just', 'like', 'filler', '0001', 'know', 'want', 'really', 'good', \n",
    "            'going', 'feel', 'got','think', 'https', 'gt', 'com', 'im', 'things', 'talk', 'll', 'amp', \n",
    "            'way', 'did', 'day', 'make', 'shit' , 'life', 'said', 'new', 'people', 'fucking', 'say', 'wanna',\n",
    "           'reddit', 'maybe']\n",
    "\n",
    "# Setting stops variable as english stop words and adding in my unique stops.\n",
    "stops = text.ENGLISH_STOP_WORDS.union(my_stops)"
   ]
  },
  {
   "cell_type": "code",
   "execution_count": 14,
   "metadata": {
    "scrolled": true
   },
   "outputs": [
    {
     "data": {
      "image/png": "[encoded data removed]",
      "text/plain": [
       "<Figure size 720x432 with 1 Axes>"
      ]
     },
     "metadata": {
      "needs_background": "light"
     },
     "output_type": "display_data"
    }
   ],
   "source": [
    "# Setting subreddits_cvec as a countvectorizer of my stopwords\n",
    "subreddits_cvec = CountVectorizer(stop_words = stops)\n",
    "# Setting X as user_post\n",
    "X = merged_df['user_post']\n",
    "# Fitting subreddits_cvec with user post\n",
    "subreddits_cvec.fit(X)\n",
    "# Setting X_trans as my transformed X\n",
    "X_trans = subreddits_cvec.transform(X)\n",
    "# Creating a dataframe of X_transformed and using get_feature_names()\n",
    "X_trans = pd.DataFrame(X_trans.todense(), \n",
    "                 columns=subreddits_cvec.get_feature_names())\n",
    "\n",
    "# Setting figure size\n",
    "plt.figure(figsize = [10, 6])\n",
    "# Using .sum() to visualize most common words in descending order\n",
    "X_trans.sum().sort_values(ascending = False).head(10).plot(kind='barh');\n",
    "\n",
    "# Setting title for figure\n",
    "plt.title(\"Most Common Words\", size = 20)\n",
    "# Labeling my x axis\n",
    "plt.xlabel(\"Count\", size = 15)\n",
    "# Labeling my y axis\n",
    "plt.ylabel(\"Word\", size = 15)\n",
    "\n",
    "# Saving the figure so that I can use it in my readme.\n",
    "plt.savefig(\"./images/overall_common_words.png\")"
   ]
  },
  {
   "cell_type": "code",
   "execution_count": 15,
   "metadata": {
    "scrolled": false
   },
   "outputs": [
    {
     "data": {
      "image/png": "[encoded data removed]",
      "text/plain": [
       "<Figure size 720x432 with 1 Axes>"
      ]
     },
     "metadata": {
      "needs_background": "light"
     },
     "output_type": "display_data"
    }
   ],
   "source": [
    "# Reading in the adulting dataframe so that I can visualize top words.\n",
    "adulting_df = pd.read_csv('./data/adulting_subreddit.csv')\n",
    "\n",
    "# Setting adulting_cvec to a countvectorizer using my custom stop words\n",
    "adulting_cvec = CountVectorizer(stop_words = stops)\n",
    "# Setting X as user_post in adulting dataframe\n",
    "X = adulting_df['user_post']\n",
    "# Fitting adulting_cvec with X data (user_post from adults)\n",
    "adulting_cvec.fit(X)\n",
    "# Setting X_trans to the cvec of transformed X data\n",
    "X_trans = adulting_cvec.transform(X)\n",
    "\n",
    "# Setting X_trans as a dataframe using .todense() and get_feature_names()\n",
    "X_trans = pd.DataFrame(X_trans.todense(), \n",
    "                 columns=adulting_cvec.get_feature_names())\n",
    "\n",
    "# Setting figure size\n",
    "plt.figure(figsize = [10, 6])\n",
    "# Using .sum() on X_trans to visualize common words in descending order\n",
    "X_trans.sum().sort_values(ascending = False).head(10).plot(kind='barh');\n",
    "\n",
    "# Setting title for figure\n",
    "plt.title(\"Adults Most Common Words\", size = 20)\n",
    "# Setting x axis label\n",
    "plt.xlabel(\"Count\", size = 15)\n",
    "# Setting y axis label\n",
    "plt.ylabel(\"Word\", size = 15)\n",
    "\n",
    "# Saving figure so that I can use it in my readme\n",
    "plt.savefig(\"./images/adults_common_words.png\")"
   ]
  },
  {
   "cell_type": "code",
   "execution_count": 16,
   "metadata": {
    "scrolled": false
   },
   "outputs": [
    {
     "data": {
      "image/png": "[encoded data removed]",
      "text/plain": [
       "<Figure size 720x432 with 1 Axes>"
      ]
     },
     "metadata": {
      "needs_background": "light"
     },
     "output_type": "display_data"
    }
   ],
   "source": [
    "# Reading in my teenagers_dataframe so that I can visualize my most common words in teenagers subreddit\n",
    "teenagers_df = pd.read_csv('./data/teenagers_subreddit.csv')\n",
    "\n",
    "# Setting teenagers_cvec as a count vectorizer and using my custom stop words\n",
    "teenagers_cvec = CountVectorizer(stop_words = stops)\n",
    "# Setting X as user_post for teenagers dataframe\n",
    "X = teenagers_df['user_post']\n",
    "# Fitting teenagers_cvec with X (user_post in teenagers df)\n",
    "teenagers_cvec.fit(X)\n",
    "# Setting X trans as transformed X data\n",
    "X_trans = teenagers_cvec.transform(X)\n",
    "\n",
    "# Setting X trans as a dataframe using .todense() and get_feature_names()\n",
    "X_trans = pd.DataFrame(X_trans.todense(), \n",
    "                 columns=teenagers_cvec.get_feature_names())\n",
    "\n",
    "# Setting figure size\n",
    "plt.figure(figsize = [10, 6])\n",
    "# Using .sum() on X_trans data to visualize most common words in descending order\n",
    "X_trans.sum().sort_values(ascending = False).head(10).plot(kind='barh');\n",
    "\n",
    "# Setting figure title\n",
    "plt.title(\"Teenagers Most Common Words\", size = 20)\n",
    "# Setting x axis label\n",
    "plt.xlabel(\"Count\", size = 15)\n",
    "# Setting y axis label\n",
    "plt.ylabel(\"Word\", size = 15)\n",
    "\n",
    "# Saving figure so that I can use it in my readme\n",
    "plt.savefig(\"./images/teenagers_common_words.png\")"
   ]
  },
  {
   "cell_type": "code",
   "execution_count": 17,
   "metadata": {
    "scrolled": true
   },
   "outputs": [
    {
     "name": "stdout",
     "output_type": "stream",
     "text": [
      "frozenset({'that', 'his', 'up', 'well', 'cry', 'with', 'must', 'into', 'about', 'wherever', 'somewhere', 'them', 'him', 'an', 'be', 'formerly', 'however', 'cannot', 'else', 'further', 'when', 'two', 'at', 'hereby', 'amongst', 'three', 'whom', 'sometimes', 'hereupon', 'see', 'had', 'here', 'move', 'thereafter', 'fire', 'your', 'will', 'any', 'anywhere', 'until', 'in', 'was', 'others', 'between', 'hers', 'nine', 'very', 'made', 'fifteen', 'front', 'towards', 'since', 'almost', 'couldnt', 'were', 'thus', 'thin', 'mine', 'not', 'show', 'for', 'call', 'none', 'through', 'six', 'before', 'became', 'found', 'put', 'being', 'you', 'now', 'one', 'back', 'seeming', 'former', 'becoming', 'everyone', 'moreover', 'everywhere', 'eg', 'somehow', 'among', 'yet', 'only', 'hasnt', 'those', 'can', 'go', 'thence', 'its', 'but', 'many', 'namely', 'please', 'alone', 'because', 'seem', 'whoever', 'would', 'there', 'indeed', 'off', 'get', 'nor', 'perhaps', 'from', 'across', 'has', 'twelve', 'whence', 'do', 'all', 'ours', 'this', 'ten', 'out', 'con', 'beforehand', 'then', 'the', 'yourselves', 'mill', 'latter', 'also', 'fill', 'both', 'same', 'even', 'mostly', 'wherein', 'therein', 'already', 'four', 'or', 'sincere', 'herein', 'amoungst', 'via', 'ever', 'itself', 'thru', 'may', 'anyway', 'over', 'without', 'noone', 'last', 'afterwards', 'five', 'thereupon', 'again', 'cant', 'why', 'himself', 'done', 'top', 'enough', 'along', 'anything', 'been', 'whose', 'are', 'other', 'upon', 'yours', 'find', 'inc', 'no', 'side', 'such', 'another', 'next', 'themselves', 'describe', 'around', 'beside', 'first', 'could', 'by', 'some', 'third', 'own', 'throughout', 'i', 'full', 'their', 'fifty', 'keep', 'elsewhere', 'per', 'eight', 'otherwise', 'we', 'whereby', 'anyone', 'is', 'interest', 'although', 'un', 'once', 'ltd', 'anyhow', 'whatever', 'her', 'hundred', 'either', 'yourself', 'us', 'these', 'on', 'might', 'less', 'whereupon', 'thick', 'due', 'every', 'herself', 'under', 'ie', 'several', 'to', 'bottom', 'always', 'system', 'twenty', 'which', 'everything', 'whereas', 'myself', 'except', 'together', 'nevertheless', 'down', 'she', 'as', 'my', 'much', 'below', 'our', 'onto', 'while', 'neither', 'he', 'so', 'take', 'during', 'forty', 'how', 'a', 'detail', 'whither', 'behind', 'should', 'sometime', 'seems', 'thereby', 'me', 'hence', 'they', 'seemed', 'whether', 'give', 'least', 'above', 'within', 'after', 'each', 'beyond', 'therefore', 're', 'whole', 'and', 'still', 'become', 'ourselves', 'often', 'more', 'hereafter', 'most', 'rather', 'latterly', 'have', 'against', 'name', 'bill', 'nothing', 'than', 'empty', 'sixty', 'eleven', 'few', 'meanwhile', 'de', 'who', 'if', 'etc', 'where', 'am', 'nowhere', 'whenever', 'co', 'of', 'part', 'someone', 'what', 'it', 'too', 'becomes', 'toward', 'though', 'besides', 'amount', 'something', 'serious', 'never', 'whereafter', 'nobody'})\n"
     ]
    }
   ],
   "source": [
    "# Sklearn's stopwords in English language.\n",
    "print(CountVectorizer(stop_words = 'english').get_stop_words())"
   ]
  },
  {
   "cell_type": "markdown",
   "metadata": {},
   "source": [
    "## Pipeline / Naive Bayes / CountVectorizer"
   ]
  },
  {
   "cell_type": "code",
   "execution_count": 18,
   "metadata": {},
   "outputs": [],
   "source": [
    "# Setting up of pipeline with countvectorizer and multinomialNB\n",
    "pipe = Pipeline([\n",
    "    ('cvec', CountVectorizer()),\n",
    "    ('nb', MultinomialNB())\n",
    "])\n",
    "\n",
    "# Setting up pipe parameters that I will adjust throughout my project to obtain best score.\n",
    "# Using best_param_ I will see what parameters will work best and remove the ones that do not work.\n",
    "pipe_params = {\n",
    "    'cvec__max_features': [5_000],\n",
    "    'cvec__min_df': [3],\n",
    "    'cvec__max_df': [.9],\n",
    "    'cvec__ngram_range': [(1,1)],\n",
    "    'cvec__stop_words' : [None]\n",
    "}"
   ]
  },
  {
   "cell_type": "code",
   "execution_count": 19,
   "metadata": {},
   "outputs": [],
   "source": [
    "# Instantiating GridSearchCV\n",
    "gs = GridSearchCV(pipe, param_grid=pipe_params, cv=5)"
   ]
  },
  {
   "cell_type": "code",
   "execution_count": 20,
   "metadata": {},
   "outputs": [
    {
     "data": {
      "text/plain": [
       "{'cvec__max_df': 0.9,\n",
       " 'cvec__max_features': 5000,\n",
       " 'cvec__min_df': 3,\n",
       " 'cvec__ngram_range': (1, 1),\n",
       " 'cvec__stop_words': None}"
      ]
     },
     "execution_count": 20,
     "metadata": {},
     "output_type": "execute_result"
    }
   ],
   "source": [
    "# Fitting GridSearch on training data\n",
    "gs.fit(X_train, y_train)\n",
    "\n",
    "# Printing of my best parameters that I will fill into my parameters above\n",
    "gs.best_params_"
   ]
  },
  {
   "cell_type": "code",
   "execution_count": 21,
   "metadata": {},
   "outputs": [
    {
     "name": "stdout",
     "output_type": "stream",
     "text": [
      "Naive Bayes CountVectorizer Score\n",
      "_________________________________\n",
      "Best Score: 0.9122994652406418\n",
      "\n",
      "Training Score: 0.9386809269162211\n",
      "\n",
      "Testing Score: 0.914484233030465\n",
      "\n",
      "Cross Val Score: 0.8934046345811052\n"
     ]
    }
   ],
   "source": [
    "print(\"Naive Bayes CountVectorizer Score\")\n",
    "print(\"_________________________________\")\n",
    "# The best score\n",
    "print(\"Best Score:\",gs.best_score_)\n",
    "print(\"\")\n",
    "# Score model on training set\n",
    "print(\"Training Score:\", gs.score(X_train, y_train))\n",
    "print(\"\")\n",
    "# Score model on testing set\n",
    "print(\"Testing Score:\", gs.score(X_test, y_test))\n",
    "print(\"\")\n",
    "# Estimate how your model will perform on unseen data\n",
    "print(\"Cross Val Score:\", cross_val_score(pipe, X_train, y_train, cv=3).mean()) "
   ]
  },
  {
   "cell_type": "markdown",
   "metadata": {},
   "source": [
    "## Pipeline2 / Naive Bayes / TfidfVectorizer"
   ]
  },
  {
   "cell_type": "code",
   "execution_count": 22,
   "metadata": {},
   "outputs": [],
   "source": [
    "# Instantiate tfidf vectorizer\n",
    "tvec = TfidfVectorizer()\n",
    "\n",
    "# Setting up tfidfvectorizer for pipeline\n",
    "# Using tfidfvectorizer and multinomialNB\n",
    "pipe_tvec = Pipeline([\n",
    "    ('tvec', TfidfVectorizer()),\n",
    "    ('nb', MultinomialNB())\n",
    "])\n",
    "\n",
    "# Setting pipeline parameters for my tfidfvectorizer/multinomialNB\n",
    "# Will also adjust these throughout my project to obtain the best score\n",
    "pipe_tvec_params = {\n",
    "    'tvec__max_features': [5_000],\n",
    "    'tvec__stop_words': [stops],\n",
    "    'tvec__ngram_range': [(1,2)]\n",
    "}"
   ]
  },
  {
   "cell_type": "code",
   "execution_count": 23,
   "metadata": {},
   "outputs": [],
   "source": [
    "# Instantiating GridSearchCV for tfidfvectorizer\n",
    "gs_tvec = GridSearchCV(pipe_tvec, param_grid=pipe_tvec_params, cv=5)"
   ]
  },
  {
   "cell_type": "code",
   "execution_count": 24,
   "metadata": {},
   "outputs": [
    {
     "data": {
      "text/plain": [
       "{'tvec__max_features': 5000,\n",
       " 'tvec__ngram_range': (1, 2),\n",
       " 'tvec__stop_words': frozenset({'0001',\n",
       "            'a',\n",
       "            'about',\n",
       "            'above',\n",
       "            'across',\n",
       "            'after',\n",
       "            'afterwards',\n",
       "            'again',\n",
       "            'against',\n",
       "            'all',\n",
       "            'almost',\n",
       "            'alone',\n",
       "            'along',\n",
       "            'already',\n",
       "            'also',\n",
       "            'although',\n",
       "            'always',\n",
       "            'am',\n",
       "            'among',\n",
       "            'amongst',\n",
       "            'amoungst',\n",
       "            'amount',\n",
       "            'amp',\n",
       "            'an',\n",
       "            'and',\n",
       "            'another',\n",
       "            'any',\n",
       "            'anyhow',\n",
       "            'anyone',\n",
       "            'anything',\n",
       "            'anyway',\n",
       "            'anywhere',\n",
       "            'are',\n",
       "            'around',\n",
       "            'as',\n",
       "            'at',\n",
       "            'back',\n",
       "            'be',\n",
       "            'became',\n",
       "            'because',\n",
       "            'become',\n",
       "            'becomes',\n",
       "            'becoming',\n",
       "            'been',\n",
       "            'before',\n",
       "            'beforehand',\n",
       "            'behind',\n",
       "            'being',\n",
       "            'below',\n",
       "            'beside',\n",
       "            'besides',\n",
       "            'between',\n",
       "            'beyond',\n",
       "            'bill',\n",
       "            'both',\n",
       "            'bottom',\n",
       "            'but',\n",
       "            'by',\n",
       "            'call',\n",
       "            'can',\n",
       "            'cannot',\n",
       "            'cant',\n",
       "            'co',\n",
       "            'com',\n",
       "            'con',\n",
       "            'could',\n",
       "            'couldnt',\n",
       "            'cry',\n",
       "            'cum',\n",
       "            'day',\n",
       "            'de',\n",
       "            'describe',\n",
       "            'detail',\n",
       "            'did',\n",
       "            'do',\n",
       "            'don',\n",
       "            'done',\n",
       "            'down',\n",
       "            'due',\n",
       "            'during',\n",
       "            'each',\n",
       "            'eg',\n",
       "            'eight',\n",
       "            'either',\n",
       "            'eleven',\n",
       "            'else',\n",
       "            'elsewhere',\n",
       "            'empty',\n",
       "            'enough',\n",
       "            'etc',\n",
       "            'even',\n",
       "            'ever',\n",
       "            'every',\n",
       "            'everyone',\n",
       "            'everything',\n",
       "            'everywhere',\n",
       "            'except',\n",
       "            'feel',\n",
       "            'few',\n",
       "            'fifteen',\n",
       "            'fifty',\n",
       "            'fill',\n",
       "            'filler',\n",
       "            'find',\n",
       "            'fire',\n",
       "            'first',\n",
       "            'five',\n",
       "            'for',\n",
       "            'former',\n",
       "            'formerly',\n",
       "            'forty',\n",
       "            'found',\n",
       "            'four',\n",
       "            'from',\n",
       "            'front',\n",
       "            'fucking',\n",
       "            'full',\n",
       "            'further',\n",
       "            'get',\n",
       "            'give',\n",
       "            'go',\n",
       "            'going',\n",
       "            'good',\n",
       "            'got',\n",
       "            'gt',\n",
       "            'had',\n",
       "            'has',\n",
       "            'hasnt',\n",
       "            'have',\n",
       "            'he',\n",
       "            'hence',\n",
       "            'her',\n",
       "            'here',\n",
       "            'hereafter',\n",
       "            'hereby',\n",
       "            'herein',\n",
       "            'hereupon',\n",
       "            'hers',\n",
       "            'herself',\n",
       "            'him',\n",
       "            'himself',\n",
       "            'his',\n",
       "            'how',\n",
       "            'however',\n",
       "            'https',\n",
       "            'hundred',\n",
       "            'i',\n",
       "            'ie',\n",
       "            'if',\n",
       "            'im',\n",
       "            'in',\n",
       "            'inc',\n",
       "            'indeed',\n",
       "            'interest',\n",
       "            'into',\n",
       "            'is',\n",
       "            'it',\n",
       "            'its',\n",
       "            'itself',\n",
       "            'just',\n",
       "            'keep',\n",
       "            'know',\n",
       "            'last',\n",
       "            'latter',\n",
       "            'latterly',\n",
       "            'least',\n",
       "            'less',\n",
       "            'life',\n",
       "            'like',\n",
       "            'll',\n",
       "            'ltd',\n",
       "            'made',\n",
       "            'make',\n",
       "            'many',\n",
       "            'may',\n",
       "            'maybe',\n",
       "            'me',\n",
       "            'meanwhile',\n",
       "            'might',\n",
       "            'mill',\n",
       "            'mine',\n",
       "            'more',\n",
       "            'moreover',\n",
       "            'most',\n",
       "            'mostly',\n",
       "            'move',\n",
       "            'much',\n",
       "            'must',\n",
       "            'my',\n",
       "            'myself',\n",
       "            'name',\n",
       "            'namely',\n",
       "            'neither',\n",
       "            'never',\n",
       "            'nevertheless',\n",
       "            'new',\n",
       "            'next',\n",
       "            'nine',\n",
       "            'no',\n",
       "            'nobody',\n",
       "            'none',\n",
       "            'noone',\n",
       "            'nor',\n",
       "            'not',\n",
       "            'nothing',\n",
       "            'now',\n",
       "            'nowhere',\n",
       "            'of',\n",
       "            'off',\n",
       "            'often',\n",
       "            'on',\n",
       "            'once',\n",
       "            'one',\n",
       "            'only',\n",
       "            'onto',\n",
       "            'or',\n",
       "            'other',\n",
       "            'others',\n",
       "            'otherwise',\n",
       "            'our',\n",
       "            'ours',\n",
       "            'ourselves',\n",
       "            'out',\n",
       "            'over',\n",
       "            'own',\n",
       "            'part',\n",
       "            'people',\n",
       "            'per',\n",
       "            'perhaps',\n",
       "            'please',\n",
       "            'put',\n",
       "            'rather',\n",
       "            're',\n",
       "            'really',\n",
       "            'reddit',\n",
       "            'said',\n",
       "            'same',\n",
       "            'say',\n",
       "            'see',\n",
       "            'seem',\n",
       "            'seemed',\n",
       "            'seeming',\n",
       "            'seems',\n",
       "            'serious',\n",
       "            'several',\n",
       "            'she',\n",
       "            'shit',\n",
       "            'should',\n",
       "            'show',\n",
       "            'side',\n",
       "            'since',\n",
       "            'sincere',\n",
       "            'six',\n",
       "            'sixty',\n",
       "            'so',\n",
       "            'some',\n",
       "            'somehow',\n",
       "            'someone',\n",
       "            'something',\n",
       "            'sometime',\n",
       "            'sometimes',\n",
       "            'somewhere',\n",
       "            'still',\n",
       "            'such',\n",
       "            'system',\n",
       "            'take',\n",
       "            'talk',\n",
       "            'ten',\n",
       "            'than',\n",
       "            'that',\n",
       "            'the',\n",
       "            'their',\n",
       "            'them',\n",
       "            'themselves',\n",
       "            'then',\n",
       "            'thence',\n",
       "            'there',\n",
       "            'thereafter',\n",
       "            'thereby',\n",
       "            'therefore',\n",
       "            'therein',\n",
       "            'thereupon',\n",
       "            'these',\n",
       "            'they',\n",
       "            'thick',\n",
       "            'thin',\n",
       "            'things',\n",
       "            'think',\n",
       "            'third',\n",
       "            'this',\n",
       "            'those',\n",
       "            'though',\n",
       "            'three',\n",
       "            'through',\n",
       "            'throughout',\n",
       "            'thru',\n",
       "            'thus',\n",
       "            'to',\n",
       "            'together',\n",
       "            'too',\n",
       "            'top',\n",
       "            'toward',\n",
       "            'towards',\n",
       "            'twelve',\n",
       "            'twenty',\n",
       "            'two',\n",
       "            'un',\n",
       "            'under',\n",
       "            'until',\n",
       "            'up',\n",
       "            'upon',\n",
       "            'us',\n",
       "            've',\n",
       "            'very',\n",
       "            'via',\n",
       "            'wanna',\n",
       "            'want',\n",
       "            'was',\n",
       "            'way',\n",
       "            'we',\n",
       "            'well',\n",
       "            'were',\n",
       "            'what',\n",
       "            'whatever',\n",
       "            'when',\n",
       "            'whence',\n",
       "            'whenever',\n",
       "            'where',\n",
       "            'whereafter',\n",
       "            'whereas',\n",
       "            'whereby',\n",
       "            'wherein',\n",
       "            'whereupon',\n",
       "            'wherever',\n",
       "            'whether',\n",
       "            'which',\n",
       "            'while',\n",
       "            'whither',\n",
       "            'who',\n",
       "            'whoever',\n",
       "            'whole',\n",
       "            'whom',\n",
       "            'whose',\n",
       "            'why',\n",
       "            'will',\n",
       "            'with',\n",
       "            'within',\n",
       "            'without',\n",
       "            'would',\n",
       "            'yet',\n",
       "            'you',\n",
       "            'your',\n",
       "            'yours',\n",
       "            'yourself',\n",
       "            'yourselves'})}"
      ]
     },
     "execution_count": 24,
     "metadata": {},
     "output_type": "execute_result"
    }
   ],
   "source": [
    "# Fitting my gridsearch with X_Train and y_train\n",
    "gs_tvec.fit(X_train, y_train)\n",
    "\n",
    "# Printing out the best parameters\n",
    "gs_tvec.best_params_"
   ]
  },
  {
   "cell_type": "code",
   "execution_count": 25,
   "metadata": {},
   "outputs": [
    {
     "name": "stdout",
     "output_type": "stream",
     "text": [
      "Naive Bayes TfidfVectorizer Score\n",
      "_________________________________\n",
      "Best Score: 0.9162210338680927\n",
      "\n",
      "Training Score: 0.9445632798573975\n",
      "\n",
      "Testing Score: 0.9257081774452165\n",
      "\n",
      "Cross Val Score: 0.8497326203208556\n"
     ]
    }
   ],
   "source": [
    "print(\"Naive Bayes TfidfVectorizer Score\")\n",
    "print(\"_________________________________\")\n",
    "# The best score\n",
    "print(\"Best Score:\",gs_tvec.best_score_)\n",
    "print(\"\")\n",
    "# Score model on training set\n",
    "print(\"Training Score:\",gs_tvec.score(X_train, y_train))\n",
    "print(\"\")\n",
    "# Score model on testing set\n",
    "print(\"Testing Score:\",gs_tvec.score(X_test, y_test))\n",
    "print(\"\")\n",
    "# Estimate how your model will perform on unseen data\n",
    "print(\"Cross Val Score:\", cross_val_score(pipe_tvec, X_train, y_train, cv=3).mean()) "
   ]
  },
  {
   "cell_type": "markdown",
   "metadata": {},
   "source": [
    "## Confusion Matrix"
   ]
  },
  {
   "cell_type": "code",
   "execution_count": 26,
   "metadata": {},
   "outputs": [],
   "source": [
    "# CountVectorizer\n",
    "preds = gs.predict(X_test)\n",
    "\n",
    "# Setting truenegative, falsepositive, falsenegative, and truepositive as variables\n",
    "tn, fp, fn, tp = confusion_matrix(y_test, preds).ravel()"
   ]
  },
  {
   "cell_type": "code",
   "execution_count": 27,
   "metadata": {
    "scrolled": false
   },
   "outputs": [
    {
     "data": {
      "image/png": "[encoded data removed]",
      "text/plain": [
       "<Figure size 432x288 with 2 Axes>"
      ]
     },
     "metadata": {
      "needs_background": "light"
     },
     "output_type": "display_data"
    }
   ],
   "source": [
    "# Printing out confusion matrix.\n",
    "# In office hours, learned that this is not very valuable for our project.\n",
    "# More important for health data.\n",
    "plot_confusion_matrix(gs, X_test, y_test, cmap='Blues', values_format='d');"
   ]
  },
  {
   "cell_type": "code",
   "execution_count": 28,
   "metadata": {},
   "outputs": [
    {
     "name": "stdout",
     "output_type": "stream",
     "text": [
      "Specificity: 0.8969823100936525\n"
     ]
    }
   ],
   "source": [
    "# Calculating specificty by dividing truenegatives by truenegatives + false positives\n",
    "spec = tn / (tn + fp)\n",
    "\n",
    "# Print specificity score\n",
    "print('Specificity:', spec)"
   ]
  },
  {
   "cell_type": "code",
   "execution_count": 29,
   "metadata": {},
   "outputs": [],
   "source": [
    "# TfidfVectorizer\n",
    "preds_two = gs_tvec.predict(X_test)\n",
    "\n",
    "# Setting truenegative, falsepositive, falsenegative, and truepositive as variables\n",
    "tn, fp, fn, tp = confusion_matrix(y_test, preds_two).ravel()"
   ]
  },
  {
   "cell_type": "code",
   "execution_count": 30,
   "metadata": {
    "scrolled": true
   },
   "outputs": [
    {
     "data": {
      "image/png": "[encoded data removed]",
      "text/plain": [
       "<Figure size 432x288 with 2 Axes>"
      ]
     },
     "metadata": {
      "needs_background": "light"
     },
     "output_type": "display_data"
    }
   ],
   "source": [
    "# Printing out confusion matrix.\n",
    "# In office hours, learned that this is not very valuable for our project.\n",
    "# More important for health data.\n",
    "plot_confusion_matrix(gs_tvec, X_test, y_test, cmap='Blues', values_format='d');"
   ]
  },
  {
   "cell_type": "code",
   "execution_count": 31,
   "metadata": {},
   "outputs": [
    {
     "name": "stdout",
     "output_type": "stream",
     "text": [
      "Specificity: 0.9292403746097815\n"
     ]
    }
   ],
   "source": [
    "# Calculating specificty by dividing truenegatives by truenegatives + false positives\n",
    "spec = tn / (tn + fp)\n",
    "\n",
    "# Print specificity score\n",
    "print('Specificity:', spec)"
   ]
  },
  {
   "cell_type": "markdown",
   "metadata": {},
   "source": [
    "# Misclassification"
   ]
  },
  {
   "cell_type": "code",
   "execution_count": 32,
   "metadata": {},
   "outputs": [
    {
     "data": {
      "text/html": [
       "<div>\n",
       "<style scoped>\n",
       "    .dataframe tbody tr th:only-of-type {\n",
       "        vertical-align: middle;\n",
       "    }\n",
       "\n",
       "    .dataframe tbody tr th {\n",
       "        vertical-align: top;\n",
       "    }\n",
       "\n",
       "    .dataframe thead th {\n",
       "        text-align: right;\n",
       "    }\n",
       "</style>\n",
       "<table border=\"1\" class=\"dataframe\">\n",
       "  <thead>\n",
       "    <tr style=\"text-align: right;\">\n",
       "      <th></th>\n",
       "      <th>actual_subreddit</th>\n",
       "      <th>predicted_subreddit</th>\n",
       "      <th>misclass</th>\n",
       "      <th>whole_post</th>\n",
       "    </tr>\n",
       "  </thead>\n",
       "  <tbody>\n",
       "    <tr>\n",
       "      <th>2492</th>\n",
       "      <td>Teenagers</td>\n",
       "      <td>Teenagers</td>\n",
       "      <td>No</td>\n",
       "      <td>Posting pics of Hugo everyday to cheer you up ...</td>\n",
       "    </tr>\n",
       "    <tr>\n",
       "      <th>7011</th>\n",
       "      <td>Adulting</td>\n",
       "      <td>Teenagers</td>\n",
       "      <td>Yes</td>\n",
       "      <td>Games to play with no alcohol? I hope this is ...</td>\n",
       "    </tr>\n",
       "    <tr>\n",
       "      <th>180</th>\n",
       "      <td>Teenagers</td>\n",
       "      <td>Teenagers</td>\n",
       "      <td>No</td>\n",
       "      <td>Click here for another surprise! \\n&amp;gt;!\\n⣿⣿⣿⣿...</td>\n",
       "    </tr>\n",
       "    <tr>\n",
       "      <th>4332</th>\n",
       "      <td>Adulting</td>\n",
       "      <td>Adulting</td>\n",
       "      <td>No</td>\n",
       "      <td>I have a nearly one-hour drive one way to my n...</td>\n",
       "    </tr>\n",
       "    <tr>\n",
       "      <th>6378</th>\n",
       "      <td>Adulting</td>\n",
       "      <td>Adulting</td>\n",
       "      <td>No</td>\n",
       "      <td>Adults do their taxes! Anyone used the free si...</td>\n",
       "    </tr>\n",
       "    <tr>\n",
       "      <th>959</th>\n",
       "      <td>Teenagers</td>\n",
       "      <td>Teenagers</td>\n",
       "      <td>No</td>\n",
       "      <td>Just asked out my crush and she said yes, what...</td>\n",
       "    </tr>\n",
       "    <tr>\n",
       "      <th>860</th>\n",
       "      <td>Teenagers</td>\n",
       "      <td>Teenagers</td>\n",
       "      <td>No</td>\n",
       "      <td>Free award for anyone that can make me laugh! ...</td>\n",
       "    </tr>\n",
       "    <tr>\n",
       "      <th>5279</th>\n",
       "      <td>Adulting</td>\n",
       "      <td>Adulting</td>\n",
       "      <td>No</td>\n",
       "      <td>Im confused! I’m a 17 turning 18 on May. I hav...</td>\n",
       "    </tr>\n",
       "    <tr>\n",
       "      <th>6348</th>\n",
       "      <td>Adulting</td>\n",
       "      <td>Adulting</td>\n",
       "      <td>No</td>\n",
       "      <td>I am older, 44. I quit my \"good\" professional ...</td>\n",
       "    </tr>\n",
       "    <tr>\n",
       "      <th>2539</th>\n",
       "      <td>Teenagers</td>\n",
       "      <td>Teenagers</td>\n",
       "      <td>No</td>\n",
       "      <td>My crush just confessed to me kin the smoothes...</td>\n",
       "    </tr>\n",
       "  </tbody>\n",
       "</table>\n",
       "</div>"
      ],
      "text/plain": [
       "     actual_subreddit predicted_subreddit misclass  \\\n",
       "2492        Teenagers           Teenagers       No   \n",
       "7011         Adulting           Teenagers      Yes   \n",
       "180         Teenagers           Teenagers       No   \n",
       "4332         Adulting            Adulting       No   \n",
       "6378         Adulting            Adulting       No   \n",
       "959         Teenagers           Teenagers       No   \n",
       "860         Teenagers           Teenagers       No   \n",
       "5279         Adulting            Adulting       No   \n",
       "6348         Adulting            Adulting       No   \n",
       "2539        Teenagers           Teenagers       No   \n",
       "\n",
       "                                             whole_post  \n",
       "2492  Posting pics of Hugo everyday to cheer you up ...  \n",
       "7011  Games to play with no alcohol? I hope this is ...  \n",
       "180   Click here for another surprise! \\n&gt;!\\n⣿⣿⣿⣿...  \n",
       "4332  I have a nearly one-hour drive one way to my n...  \n",
       "6378  Adults do their taxes! Anyone used the free si...  \n",
       "959   Just asked out my crush and she said yes, what...  \n",
       "860   Free award for anyone that can make me laugh! ...  \n",
       "5279  Im confused! I’m a 17 turning 18 on May. I hav...  \n",
       "6348  I am older, 44. I quit my \"good\" professional ...  \n",
       "2539  My crush just confessed to me kin the smoothes...  "
      ]
     },
     "execution_count": 32,
     "metadata": {},
     "output_type": "execute_result"
    }
   ],
   "source": [
    "# Creating dataframe from y_test data\n",
    "misclass_df = pd.DataFrame(data = y_test)\n",
    "\n",
    "# Renaming subrddit column to actual_subreddit, easier to read and see misclassifications\n",
    "misclass_df = misclass_df.rename({'subreddit' : 'actual_subreddit'}, axis = 1)\n",
    "\n",
    "# Setting a new column, predicted_subreddit, as my predictions\n",
    "misclass_df['predicted_subreddit'] = preds\n",
    "\n",
    "# Setting a new column mislcass that wil subtract the actual_subreddit from the predicted subreddit\n",
    "misclass_df['misclass'] = misclass_df['actual_subreddit'] - misclass_df['predicted_subreddit']\n",
    "\n",
    "# Brining in the whole_post column from X_test\n",
    "misclass_df['whole_post'] = X_test\n",
    "\n",
    "# Mapping actual subreddit, 1 for Adults, 0 for Teenagers. Easier to read\n",
    "misclass_df[\"actual_subreddit\"] = misclass_df[\"actual_subreddit\"].map({1:\"Adulting\", 0:\"Teenagers\"})\n",
    "\n",
    "# Mapping predicted subreddit, 1 or Adults, 0 for Teenagers. Easier to read.\n",
    "misclass_df[\"predicted_subreddit\"] = misclass_df[\"predicted_subreddit\"].map({1:\"Adulting\", 0:\"Teenagers\"})\n",
    "\n",
    "# Mapping Misclass, 1 for Yes, 0 for No. Easier to read.\n",
    "misclass_df[\"misclass\"] = misclass_df[\"misclass\"].map({1:\"Yes\", 0:\"No\"})\n",
    "\n",
    "# Setting misclass_df where misclass was not 0\n",
    "misclass_df = misclass_df[misclass_df['misclass'] != 0]\n",
    "\n",
    "# Visualizing first ten rows in misclass_DF\n",
    "misclass_df[0:10]"
   ]
  },
  {
   "cell_type": "code",
   "execution_count": 33,
   "metadata": {},
   "outputs": [
    {
     "data": {
      "text/html": [
       "<div>\n",
       "<style scoped>\n",
       "    .dataframe tbody tr th:only-of-type {\n",
       "        vertical-align: middle;\n",
       "    }\n",
       "\n",
       "    .dataframe tbody tr th {\n",
       "        vertical-align: top;\n",
       "    }\n",
       "\n",
       "    .dataframe thead th {\n",
       "        text-align: right;\n",
       "    }\n",
       "</style>\n",
       "<table border=\"1\" class=\"dataframe\">\n",
       "  <thead>\n",
       "    <tr style=\"text-align: right;\">\n",
       "      <th></th>\n",
       "      <th>actual_subreddit</th>\n",
       "      <th>predicted_subreddit</th>\n",
       "      <th>misclass</th>\n",
       "      <th>whole_post</th>\n",
       "    </tr>\n",
       "  </thead>\n",
       "  <tbody>\n",
       "    <tr>\n",
       "      <th>7011</th>\n",
       "      <td>Adulting</td>\n",
       "      <td>Teenagers</td>\n",
       "      <td>Yes</td>\n",
       "      <td>Games to play with no alcohol? I hope this is ...</td>\n",
       "    </tr>\n",
       "    <tr>\n",
       "      <th>7396</th>\n",
       "      <td>Adulting</td>\n",
       "      <td>Teenagers</td>\n",
       "      <td>Yes</td>\n",
       "      <td>Navigated workplace conlict Hooray! I navigate...</td>\n",
       "    </tr>\n",
       "    <tr>\n",
       "      <th>4904</th>\n",
       "      <td>Adulting</td>\n",
       "      <td>Teenagers</td>\n",
       "      <td>Yes</td>\n",
       "      <td>Dreams do come true, I’ve seen friends start t...</td>\n",
       "    </tr>\n",
       "    <tr>\n",
       "      <th>7374</th>\n",
       "      <td>Adulting</td>\n",
       "      <td>Teenagers</td>\n",
       "      <td>Yes</td>\n",
       "      <td>Make eye contact with people while you talk to...</td>\n",
       "    </tr>\n",
       "    <tr>\n",
       "      <th>6757</th>\n",
       "      <td>Adulting</td>\n",
       "      <td>Teenagers</td>\n",
       "      <td>Yes</td>\n",
       "      <td>Something i learned If you need something sewe...</td>\n",
       "    </tr>\n",
       "    <tr>\n",
       "      <th>...</th>\n",
       "      <td>...</td>\n",
       "      <td>...</td>\n",
       "      <td>...</td>\n",
       "      <td>...</td>\n",
       "    </tr>\n",
       "    <tr>\n",
       "      <th>6678</th>\n",
       "      <td>Adulting</td>\n",
       "      <td>Teenagers</td>\n",
       "      <td>Yes</td>\n",
       "      <td>One of my students asked me out. I am very pro...</td>\n",
       "    </tr>\n",
       "    <tr>\n",
       "      <th>4028</th>\n",
       "      <td>Adulting</td>\n",
       "      <td>Teenagers</td>\n",
       "      <td>Yes</td>\n",
       "      <td>How do you keep going after realising you are ...</td>\n",
       "    </tr>\n",
       "    <tr>\n",
       "      <th>4053</th>\n",
       "      <td>Adulting</td>\n",
       "      <td>Teenagers</td>\n",
       "      <td>Yes</td>\n",
       "      <td>[OPINION/RANT]How to indirectly teach my famil...</td>\n",
       "    </tr>\n",
       "    <tr>\n",
       "      <th>4912</th>\n",
       "      <td>Adulting</td>\n",
       "      <td>Teenagers</td>\n",
       "      <td>Yes</td>\n",
       "      <td>I gave my cat her medicine with no assistance ...</td>\n",
       "    </tr>\n",
       "    <tr>\n",
       "      <th>5138</th>\n",
       "      <td>Adulting</td>\n",
       "      <td>Teenagers</td>\n",
       "      <td>Yes</td>\n",
       "      <td>How I overcame my pornography addiction &amp;amp; ...</td>\n",
       "    </tr>\n",
       "  </tbody>\n",
       "</table>\n",
       "<p>61 rows × 4 columns</p>\n",
       "</div>"
      ],
      "text/plain": [
       "     actual_subreddit predicted_subreddit misclass  \\\n",
       "7011         Adulting           Teenagers      Yes   \n",
       "7396         Adulting           Teenagers      Yes   \n",
       "4904         Adulting           Teenagers      Yes   \n",
       "7374         Adulting           Teenagers      Yes   \n",
       "6757         Adulting           Teenagers      Yes   \n",
       "...               ...                 ...      ...   \n",
       "6678         Adulting           Teenagers      Yes   \n",
       "4028         Adulting           Teenagers      Yes   \n",
       "4053         Adulting           Teenagers      Yes   \n",
       "4912         Adulting           Teenagers      Yes   \n",
       "5138         Adulting           Teenagers      Yes   \n",
       "\n",
       "                                             whole_post  \n",
       "7011  Games to play with no alcohol? I hope this is ...  \n",
       "7396  Navigated workplace conlict Hooray! I navigate...  \n",
       "4904  Dreams do come true, I’ve seen friends start t...  \n",
       "7374  Make eye contact with people while you talk to...  \n",
       "6757  Something i learned If you need something sewe...  \n",
       "...                                                 ...  \n",
       "6678  One of my students asked me out. I am very pro...  \n",
       "4028  How do you keep going after realising you are ...  \n",
       "4053  [OPINION/RANT]How to indirectly teach my famil...  \n",
       "4912  I gave my cat her medicine with no assistance ...  \n",
       "5138  How I overcame my pornography addiction &amp; ...  \n",
       "\n",
       "[61 rows x 4 columns]"
      ]
     },
     "execution_count": 33,
     "metadata": {},
     "output_type": "execute_result"
    }
   ],
   "source": [
    "# New df where the misclassification was TRUE\n",
    "df_y_test_misclass = misclass_df[misclass_df['misclass'] == 'Yes']\n",
    "# Visualizing where there were misclassifications\n",
    "df_y_test_misclass"
   ]
  },
  {
   "cell_type": "code",
   "execution_count": 34,
   "metadata": {
    "scrolled": true
   },
   "outputs": [
    {
     "data": {
      "text/html": [
       "<div>\n",
       "<style scoped>\n",
       "    .dataframe tbody tr th:only-of-type {\n",
       "        vertical-align: middle;\n",
       "    }\n",
       "\n",
       "    .dataframe tbody tr th {\n",
       "        vertical-align: top;\n",
       "    }\n",
       "\n",
       "    .dataframe thead th {\n",
       "        text-align: right;\n",
       "    }\n",
       "</style>\n",
       "<table border=\"1\" class=\"dataframe\">\n",
       "  <thead>\n",
       "    <tr style=\"text-align: right;\">\n",
       "      <th></th>\n",
       "      <th>actual_subreddit</th>\n",
       "      <th>predicted_subreddit</th>\n",
       "      <th>misclass</th>\n",
       "      <th>whole_post</th>\n",
       "    </tr>\n",
       "  </thead>\n",
       "  <tbody>\n",
       "  </tbody>\n",
       "</table>\n",
       "</div>"
      ],
      "text/plain": [
       "Empty DataFrame\n",
       "Columns: [actual_subreddit, predicted_subreddit, misclass, whole_post]\n",
       "Index: []"
      ]
     },
     "execution_count": 34,
     "metadata": {},
     "output_type": "execute_result"
    }
   ],
   "source": [
    "# Using EDA to try and find any points where Teenagers was misclassified. NONE!\n",
    "df_y_test_misclass[df_y_test_misclass['actual_subreddit'] == 'Teenagers']"
   ]
  },
  {
   "cell_type": "code",
   "execution_count": 35,
   "metadata": {
    "scrolled": true
   },
   "outputs": [
    {
     "data": {
      "image/png": "[encoded data removed]",
      "text/plain": [
       "<Figure size 720x432 with 1 Axes>"
      ]
     },
     "metadata": {
      "needs_background": "light"
     },
     "output_type": "display_data"
    }
   ],
   "source": [
    "# Setting misclass_cvec as a countvectorizer of my custom stop words\n",
    "misclass_cvec = CountVectorizer(stop_words = stops)\n",
    "# Setting X as column whole_post from df_y_test\n",
    "X = df_y_test_misclass['whole_post']\n",
    "# Fitting X on misclass_cvec\n",
    "misclass_cvec.fit(X)\n",
    "# Setting X_trans as transformed X\n",
    "X_trans = misclass_cvec.transform(X)\n",
    "\n",
    "# Using X_trans to create a dataframe using .todense() and get_feature_names()\n",
    "X_trans = pd.DataFrame(X_trans.todense(), \n",
    "                 columns=misclass_cvec.get_feature_names())\n",
    "\n",
    "# Setting figure size\n",
    "plt.figure(figsize = [10, 6])\n",
    "# Using .sum() to visualize most common words in descending order\n",
    "X_trans.sum().sort_values(ascending = False).head(10).plot(kind='barh');\n",
    "\n",
    "# Setting title for figure\n",
    "plt.title(\"Naive Bayes Misclassification\", size=20);\n",
    "# Setting label for X axis\n",
    "plt.xlabel(\"Count\", size = 15);\n",
    "# Setting label for y axis\n",
    "plt.ylabel(\"Words\", size = 15);\n",
    "\n",
    "# Saving figure so that I can use it in my readme.\n",
    "plt.savefig(\"./images/misclassified_naivebayes.png\")"
   ]
  }
 ],
 "metadata": {
  "kernelspec": {
   "display_name": "Python 3",
   "language": "python",
   "name": "python3"
  },
  "language_info": {
   "codemirror_mode": {
    "name": "ipython",
    "version": 3
   },
   "file_extension": ".py",
   "mimetype": "text/x-python",
   "name": "python",
   "nbconvert_exporter": "python",
   "pygments_lexer": "ipython3",
   "version": "3.7.9"
  }
 },
 "nbformat": 4,
 "nbformat_minor": 4
}
