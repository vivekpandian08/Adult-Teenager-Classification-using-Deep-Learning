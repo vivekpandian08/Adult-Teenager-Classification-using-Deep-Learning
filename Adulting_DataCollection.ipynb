{
 "cells": [
  {
   "cell_type": "markdown",
   "metadata": {},
   "source": [
    "# Project 3: Web APIs & NLP"
   ]
  },
  {
   "cell_type": "markdown",
   "metadata": {},
   "source": [
    "###  Notebook Contents:\n",
    "\n",
    "1. Import the packages that I need.\n",
    "2. Use the PushShift API to pull 100 rows from the adulting subreddit.\n",
    "    - I create a loop that will pull 100 rows of data from the adulting subreddit multiple times.\n",
    "    - I implement sleep so that I do not overload the server.\n",
    "3. Create a dataframe that will only contain the subreddit, title, and selftext columns.\n",
    "4. Cleaning of adulting subreddit data, removing nulls and adding title and selftext together.\n",
    "5. CountVectorizer of combined columns title and selftext (user_post).\n",
    "6. Save and export adult_df to my datasets."
   ]
  },
  {
   "cell_type": "markdown",
   "metadata": {},
   "source": [
    "### Imports"
   ]
  },
  {
   "cell_type": "code",
   "execution_count": 1,
   "metadata": {},
   "outputs": [
    {
     "name": "stderr",
     "output_type": "stream",
     "text": [
      "C:\\Users\\nolan_fur2pfn\\.conda\\envs\\dsi\\lib\\site-packages\\numpy\\_distributor_init.py:32: UserWarning: loaded more than 1 DLL from .libs:\n",
      "C:\\Users\\nolan_fur2pfn\\.conda\\envs\\dsi\\lib\\site-packages\\numpy\\.libs\\libopenblas.NOIJJG62EMASZI6NYURL6JBKM4EVBGM7.gfortran-win_amd64.dll\n",
      "C:\\Users\\nolan_fur2pfn\\.conda\\envs\\dsi\\lib\\site-packages\\numpy\\.libs\\libopenblas.PYQHXLVVQ7VESDPUVUADXEVJOBGHJPAY.gfortran-win_amd64.dll\n",
      "  stacklevel=1)\n"
     ]
    }
   ],
   "source": [
    "# Import necessary packages\n",
    "import pandas as pd\n",
    "import matplotlib.pyplot as plt\n",
    "import seaborn as sns\n",
    "import numpy as np\n",
    "\n",
    "from sklearn.model_selection import train_test_split\n",
    "from sklearn.feature_extraction.text import CountVectorizer\n",
    "\n",
    "import requests\n",
    "from bs4 import BeautifulSoup\n",
    "\n",
    "# Use this to control the scrape rate!\n",
    "from time import sleep"
   ]
  },
  {
   "cell_type": "markdown",
   "metadata": {},
   "source": [
    "### Subreddit #2.  Adulting"
   ]
  },
  {
   "cell_type": "code",
   "execution_count": 2,
   "metadata": {},
   "outputs": [],
   "source": [
    "# Setting URL to use pushshift api from video by Riley Dallas\n",
    "url = 'https://api.pushshift.io/reddit/search/submission'"
   ]
  },
  {
   "cell_type": "code",
   "execution_count": 3,
   "metadata": {},
   "outputs": [],
   "source": [
    "# Setting parameters\n",
    "params = {\n",
    "    'subreddit' : 'adulting', # Choosing my subreddit\n",
    "    'size' : 100, # Choosing how many posts I want to collect. Reddit only allows 100.\n",
    "    'before' : 1606252870 # From Riley Dallas, will allow me to collect more than 100 posts! More data the better!\n",
    "}"
   ]
  },
  {
   "cell_type": "code",
   "execution_count": 4,
   "metadata": {},
   "outputs": [
    {
     "data": {
      "text/plain": [
       "200"
      ]
     },
     "execution_count": 4,
     "metadata": {},
     "output_type": "execute_result"
    }
   ],
   "source": [
    "# Setting variable res as requests from my url and parameters\n",
    "res = requests.get(url, params)\n",
    "# Will print status code (Usually 200)\n",
    "res.status_code"
   ]
  },
  {
   "cell_type": "code",
   "execution_count": 5,
   "metadata": {},
   "outputs": [
    {
     "data": {
      "text/plain": [
       "100"
      ]
     },
     "execution_count": 5,
     "metadata": {},
     "output_type": "execute_result"
    }
   ],
   "source": [
    "# Setting data as json\n",
    "data = res.json()\n",
    "# Posts will be the data from what I collect\n",
    "posts = data['data']\n",
    "# Print how many posts I have collected\n",
    "len(posts)"
   ]
  },
  {
   "cell_type": "code",
   "execution_count": 6,
   "metadata": {},
   "outputs": [
    {
     "data": {
      "text/plain": [
       "{'all_awardings': [],\n",
       " 'allow_live_comments': False,\n",
       " 'author': 'JOSEPHDEPTH',\n",
       " 'author_flair_css_class': None,\n",
       " 'author_flair_richtext': [],\n",
       " 'author_flair_text': None,\n",
       " 'author_flair_type': 'text',\n",
       " 'author_fullname': 't2_6kh2janl',\n",
       " 'author_patreon_flair': False,\n",
       " 'author_premium': False,\n",
       " 'awarders': [],\n",
       " 'can_mod_post': False,\n",
       " 'contest_mode': False,\n",
       " 'created_utc': 1606249496,\n",
       " 'domain': 'self.Adulting',\n",
       " 'full_link': 'https://www.reddit.com/r/Adulting/comments/k0d05y/how_could_i_start_planning_to_move_out_of_my/',\n",
       " 'gildings': {},\n",
       " 'id': 'k0d05y',\n",
       " 'is_crosspostable': True,\n",
       " 'is_meta': False,\n",
       " 'is_original_content': False,\n",
       " 'is_reddit_media_domain': False,\n",
       " 'is_robot_indexable': True,\n",
       " 'is_self': True,\n",
       " 'is_video': False,\n",
       " 'link_flair_background_color': '',\n",
       " 'link_flair_richtext': [],\n",
       " 'link_flair_text_color': 'dark',\n",
       " 'link_flair_type': 'text',\n",
       " 'locked': False,\n",
       " 'media_only': False,\n",
       " 'no_follow': True,\n",
       " 'num_comments': 5,\n",
       " 'num_crossposts': 0,\n",
       " 'over_18': False,\n",
       " 'parent_whitelist_status': 'all_ads',\n",
       " 'permalink': '/r/Adulting/comments/k0d05y/how_could_i_start_planning_to_move_out_of_my/',\n",
       " 'pinned': False,\n",
       " 'pwls': 6,\n",
       " 'retrieved_on': 1606249506,\n",
       " 'score': 1,\n",
       " 'selftext': \"I'm 17, 11th grade and finally picking myself together to grind for success. I wanna be a TV writer and make shows for HBO or something but anyway I have to start grinding on how to get money, manage money and live on my own.\\n\\nBut yeah, I currently have no job yet I'm gonna get a job soon and apply at Walmart soon. And I'm still trying to make money online but I found nothing to help me cause I have no specific talents.\\n\\nI just want to know what's the process of moving out? Any videos u can suggest? Like, how does one learn to deal with a bank account and manage money? How does one learn to pay bills and buy a house? U know the usual stuff....\",\n",
       " 'send_replies': True,\n",
       " 'spoiler': False,\n",
       " 'stickied': False,\n",
       " 'subreddit': 'Adulting',\n",
       " 'subreddit_id': 't5_394gd',\n",
       " 'subreddit_subscribers': 63793,\n",
       " 'subreddit_type': 'public',\n",
       " 'thumbnail': 'self',\n",
       " 'title': 'How could i start planning to move out of my parents house to go get an apartment?',\n",
       " 'total_awards_received': 0,\n",
       " 'treatment_tags': [],\n",
       " 'upvote_ratio': 1.0,\n",
       " 'url': 'https://www.reddit.com/r/Adulting/comments/k0d05y/how_could_i_start_planning_to_move_out_of_my/',\n",
       " 'whitelist_status': 'all_ads',\n",
       " 'wls': 6}"
      ]
     },
     "execution_count": 6,
     "metadata": {},
     "output_type": "execute_result"
    }
   ],
   "source": [
    "# Visualize 1st post\n",
    "posts[0]"
   ]
  },
  {
   "cell_type": "code",
   "execution_count": 7,
   "metadata": {},
   "outputs": [],
   "source": [
    "# Function to grab 100 rows multiple times (i in range(9)) will grab me 900 more\n",
    "for i in range(49):\n",
    "    # Setting sleep to take a break between loops to not overload server\n",
    "    sleep(1)\n",
    "    # Taking the utc before our above data\n",
    "    utc = posts[-1]['created_utc']\n",
    "    params = {\n",
    "        'subreddit': 'adulting',\n",
    "        'size': 100,\n",
    "        'before': utc\n",
    "    }\n",
    "    # Using .get to get url and params from requests\n",
    "    data = requests.get(url, params)\n",
    "    # Making it a list\n",
    "    data = data.json()['data']\n",
    "    # Adding posts and data to equal variable posts\n",
    "    posts = posts + data"
   ]
  },
  {
   "cell_type": "code",
   "execution_count": 8,
   "metadata": {
    "scrolled": true
   },
   "outputs": [
    {
     "data": {
      "text/plain": [
       "5000"
      ]
     },
     "execution_count": 8,
     "metadata": {},
     "output_type": "execute_result"
    }
   ],
   "source": [
    "# Looking at how many rows of data we have.\n",
    "len(posts)"
   ]
  },
  {
   "cell_type": "code",
   "execution_count": 9,
   "metadata": {
    "scrolled": false
   },
   "outputs": [
    {
     "data": {
      "text/html": [
       "<div>\n",
       "<style scoped>\n",
       "    .dataframe tbody tr th:only-of-type {\n",
       "        vertical-align: middle;\n",
       "    }\n",
       "\n",
       "    .dataframe tbody tr th {\n",
       "        vertical-align: top;\n",
       "    }\n",
       "\n",
       "    .dataframe thead th {\n",
       "        text-align: right;\n",
       "    }\n",
       "</style>\n",
       "<table border=\"1\" class=\"dataframe\">\n",
       "  <thead>\n",
       "    <tr style=\"text-align: right;\">\n",
       "      <th></th>\n",
       "      <th>subreddit</th>\n",
       "      <th>title</th>\n",
       "      <th>selftext</th>\n",
       "    </tr>\n",
       "  </thead>\n",
       "  <tbody>\n",
       "    <tr>\n",
       "      <th>0</th>\n",
       "      <td>Adulting</td>\n",
       "      <td>How could i start planning to move out of my p...</td>\n",
       "      <td>I'm 17, 11th grade and finally picking myself ...</td>\n",
       "    </tr>\n",
       "    <tr>\n",
       "      <th>1</th>\n",
       "      <td>Adulting</td>\n",
       "      <td>Stained countertops</td>\n",
       "      <td>I live in an apartment that was built in the 6...</td>\n",
       "    </tr>\n",
       "    <tr>\n",
       "      <th>2</th>\n",
       "      <td>Adulting</td>\n",
       "      <td>Should I just quit? I really don't want to.</td>\n",
       "      <td>I(19M) currently work at a Costco in my town, ...</td>\n",
       "    </tr>\n",
       "    <tr>\n",
       "      <th>3</th>\n",
       "      <td>Adulting</td>\n",
       "      <td>Question: Fiancé’s doctor</td>\n",
       "      <td>So we moved to my fiancé hometown a while back...</td>\n",
       "    </tr>\n",
       "    <tr>\n",
       "      <th>4</th>\n",
       "      <td>Adulting</td>\n",
       "      <td>How I feel. Also shameless plug. Idk if agains...</td>\n",
       "      <td></td>\n",
       "    </tr>\n",
       "    <tr>\n",
       "      <th>...</th>\n",
       "      <td>...</td>\n",
       "      <td>...</td>\n",
       "      <td>...</td>\n",
       "    </tr>\n",
       "    <tr>\n",
       "      <th>4995</th>\n",
       "      <td>Adulting</td>\n",
       "      <td>Has anyone tried HelloFresh or any other food ...</td>\n",
       "      <td>I'm starting to get into cooking but I'm kind ...</td>\n",
       "    </tr>\n",
       "    <tr>\n",
       "      <th>4996</th>\n",
       "      <td>Adulting</td>\n",
       "      <td>How much in savings should you have</td>\n",
       "      <td></td>\n",
       "    </tr>\n",
       "    <tr>\n",
       "      <th>4997</th>\n",
       "      <td>Adulting</td>\n",
       "      <td>Move and find a job or find a job and move first?</td>\n",
       "      <td>Hi  all, so I've been looking to move recently...</td>\n",
       "    </tr>\n",
       "    <tr>\n",
       "      <th>4998</th>\n",
       "      <td>Adulting</td>\n",
       "      <td>How to convince South Asian parents that I nee...</td>\n",
       "      <td>Hey guys,\\n\\nSo i’m a 26 year old (M) with a s...</td>\n",
       "    </tr>\n",
       "    <tr>\n",
       "      <th>4999</th>\n",
       "      <td>Adulting</td>\n",
       "      <td>Tell me like I'm 5 - how the hell do washers e...</td>\n",
       "      <td>They get them wet...then spin them around..and...</td>\n",
       "    </tr>\n",
       "  </tbody>\n",
       "</table>\n",
       "<p>5000 rows × 3 columns</p>\n",
       "</div>"
      ],
      "text/plain": [
       "     subreddit                                              title  \\\n",
       "0     Adulting  How could i start planning to move out of my p...   \n",
       "1     Adulting                                Stained countertops   \n",
       "2     Adulting        Should I just quit? I really don't want to.   \n",
       "3     Adulting                          Question: Fiancé’s doctor   \n",
       "4     Adulting  How I feel. Also shameless plug. Idk if agains...   \n",
       "...        ...                                                ...   \n",
       "4995  Adulting  Has anyone tried HelloFresh or any other food ...   \n",
       "4996  Adulting                How much in savings should you have   \n",
       "4997  Adulting  Move and find a job or find a job and move first?   \n",
       "4998  Adulting  How to convince South Asian parents that I nee...   \n",
       "4999  Adulting  Tell me like I'm 5 - how the hell do washers e...   \n",
       "\n",
       "                                               selftext  \n",
       "0     I'm 17, 11th grade and finally picking myself ...  \n",
       "1     I live in an apartment that was built in the 6...  \n",
       "2     I(19M) currently work at a Costco in my town, ...  \n",
       "3     So we moved to my fiancé hometown a while back...  \n",
       "4                                                        \n",
       "...                                                 ...  \n",
       "4995  I'm starting to get into cooking but I'm kind ...  \n",
       "4996                                                     \n",
       "4997  Hi  all, so I've been looking to move recently...  \n",
       "4998  Hey guys,\\n\\nSo i’m a 26 year old (M) with a s...  \n",
       "4999  They get them wet...then spin them around..and...  \n",
       "\n",
       "[5000 rows x 3 columns]"
      ]
     },
     "execution_count": 9,
     "metadata": {},
     "output_type": "execute_result"
    }
   ],
   "source": [
    "# Setting posts as a dataframe\n",
    "df = pd.DataFrame(posts)\n",
    "# Setting which columns I want to look at\n",
    "df[['subreddit', 'title', 'selftext']]"
   ]
  },
  {
   "cell_type": "code",
   "execution_count": 10,
   "metadata": {},
   "outputs": [
    {
     "data": {
      "text/plain": [
       "\"How could i start planning to move out of my parents house to go get an apartment? I'm 17, 11th grade and finally picking myself together to grind for success. I wanna be a TV writer and make shows for HBO or something but anyway I have to start grinding on how to get money, manage money and live on my own.\\n\\nBut yeah, I currently have no job yet I'm gonna get a job soon and apply at Walmart soon. And I'm still trying to make money online but I found nothing to help me cause I have no specific talents.\\n\\nI just want to know what's the process of moving out? Any videos u can suggest? Like, how does one learn to deal with a bank account and manage money? How does one learn to pay bills and buy a house? U know the usual stuff....\""
      ]
     },
     "execution_count": 10,
     "metadata": {},
     "output_type": "execute_result"
    }
   ],
   "source": [
    "# Creating column to add together title and selftext columns\n",
    "# Instead of only using titles or self text we can use both\n",
    "df['user_post'] = df['title'] + \" \" + df['selftext']\n",
    "# Visualizing if it worked\n",
    "df['user_post'][0]"
   ]
  },
  {
   "cell_type": "code",
   "execution_count": 11,
   "metadata": {},
   "outputs": [
    {
     "data": {
      "text/html": [
       "<div>\n",
       "<style scoped>\n",
       "    .dataframe tbody tr th:only-of-type {\n",
       "        vertical-align: middle;\n",
       "    }\n",
       "\n",
       "    .dataframe tbody tr th {\n",
       "        vertical-align: top;\n",
       "    }\n",
       "\n",
       "    .dataframe thead th {\n",
       "        text-align: right;\n",
       "    }\n",
       "</style>\n",
       "<table border=\"1\" class=\"dataframe\">\n",
       "  <thead>\n",
       "    <tr style=\"text-align: right;\">\n",
       "      <th></th>\n",
       "      <th>subreddit</th>\n",
       "      <th>title</th>\n",
       "      <th>selftext</th>\n",
       "      <th>user_post</th>\n",
       "    </tr>\n",
       "  </thead>\n",
       "  <tbody>\n",
       "    <tr>\n",
       "      <th>0</th>\n",
       "      <td>Adulting</td>\n",
       "      <td>How could i start planning to move out of my p...</td>\n",
       "      <td>I'm 17, 11th grade and finally picking myself ...</td>\n",
       "      <td>How could i start planning to move out of my p...</td>\n",
       "    </tr>\n",
       "    <tr>\n",
       "      <th>1</th>\n",
       "      <td>Adulting</td>\n",
       "      <td>Stained countertops</td>\n",
       "      <td>I live in an apartment that was built in the 6...</td>\n",
       "      <td>Stained countertops I live in an apartment tha...</td>\n",
       "    </tr>\n",
       "    <tr>\n",
       "      <th>2</th>\n",
       "      <td>Adulting</td>\n",
       "      <td>Should I just quit? I really don't want to.</td>\n",
       "      <td>I(19M) currently work at a Costco in my town, ...</td>\n",
       "      <td>Should I just quit? I really don't want to. I(...</td>\n",
       "    </tr>\n",
       "    <tr>\n",
       "      <th>3</th>\n",
       "      <td>Adulting</td>\n",
       "      <td>Question: Fiancé’s doctor</td>\n",
       "      <td>So we moved to my fiancé hometown a while back...</td>\n",
       "      <td>Question: Fiancé’s doctor So we moved to my fi...</td>\n",
       "    </tr>\n",
       "    <tr>\n",
       "      <th>4</th>\n",
       "      <td>Adulting</td>\n",
       "      <td>How I feel. Also shameless plug. Idk if agains...</td>\n",
       "      <td></td>\n",
       "      <td>How I feel. Also shameless plug. Idk if agains...</td>\n",
       "    </tr>\n",
       "    <tr>\n",
       "      <th>5</th>\n",
       "      <td>Adulting</td>\n",
       "      <td>What's *YOUR* personal adulting weekly routine...</td>\n",
       "      <td>* How many times do you do laundry/vacuum/dust...</td>\n",
       "      <td>What's *YOUR* personal adulting weekly routine...</td>\n",
       "    </tr>\n",
       "    <tr>\n",
       "      <th>6</th>\n",
       "      <td>Adulting</td>\n",
       "      <td>Fact</td>\n",
       "      <td></td>\n",
       "      <td>Fact</td>\n",
       "    </tr>\n",
       "    <tr>\n",
       "      <th>7</th>\n",
       "      <td>Adulting</td>\n",
       "      <td>24, autistic and trans. Complete failure in life</td>\n",
       "      <td>long post incoming\\n\\nI don't know what to do ...</td>\n",
       "      <td>24, autistic and trans. Complete failure in li...</td>\n",
       "    </tr>\n",
       "    <tr>\n",
       "      <th>8</th>\n",
       "      <td>Adulting</td>\n",
       "      <td>19 years old feeling like a failure in life an...</td>\n",
       "      <td>1. I failed High School poorly mostly because ...</td>\n",
       "      <td>19 years old feeling like a failure in life an...</td>\n",
       "    </tr>\n",
       "    <tr>\n",
       "      <th>9</th>\n",
       "      <td>Adulting</td>\n",
       "      <td>I didn’t do my taxes this year....now what?</td>\n",
       "      <td>So I didn’t file my taxes this year. Big no-no...</td>\n",
       "      <td>I didn’t do my taxes this year....now what? So...</td>\n",
       "    </tr>\n",
       "    <tr>\n",
       "      <th>10</th>\n",
       "      <td>Adulting</td>\n",
       "      <td>How do I go about buying a car?</td>\n",
       "      <td>Is it a good idea to buy a car from a dealersh...</td>\n",
       "      <td>How do I go about buying a car? Is it a good i...</td>\n",
       "    </tr>\n",
       "    <tr>\n",
       "      <th>11</th>\n",
       "      <td>Adulting</td>\n",
       "      <td>I feel like I am failing life. (22 F)</td>\n",
       "      <td>I am new to Reddit so still not sure how it wo...</td>\n",
       "      <td>I feel like I am failing life. (22 F) I am new...</td>\n",
       "    </tr>\n",
       "    <tr>\n",
       "      <th>12</th>\n",
       "      <td>Adulting</td>\n",
       "      <td>When you order a cafe con leche 30 minutes bef...</td>\n",
       "      <td></td>\n",
       "      <td>When you order a cafe con leche 30 minutes bef...</td>\n",
       "    </tr>\n",
       "    <tr>\n",
       "      <th>13</th>\n",
       "      <td>Adulting</td>\n",
       "      <td>Drilling into a wall</td>\n",
       "      <td>I want to put up a curtain pole. I have bought...</td>\n",
       "      <td>Drilling into a wall I want to put up a curtai...</td>\n",
       "    </tr>\n",
       "    <tr>\n",
       "      <th>14</th>\n",
       "      <td>Adulting</td>\n",
       "      <td>Adulting with Jane Ep. 1: \"Changing a Tire\" wi...</td>\n",
       "      <td></td>\n",
       "      <td>Adulting with Jane Ep. 1: \"Changing a Tire\" wi...</td>\n",
       "    </tr>\n",
       "    <tr>\n",
       "      <th>15</th>\n",
       "      <td>Adulting</td>\n",
       "      <td>What would be a good amount of money to have i...</td>\n",
       "      <td>For various reasons (primarily pandemic-relate...</td>\n",
       "      <td>What would be a good amount of money to have i...</td>\n",
       "    </tr>\n",
       "    <tr>\n",
       "      <th>16</th>\n",
       "      <td>Adulting</td>\n",
       "      <td>Should I finish my degree on time or get a job...</td>\n",
       "      <td>I'm stuck right now. I have two paths in front...</td>\n",
       "      <td>Should I finish my degree on time or get a job...</td>\n",
       "    </tr>\n",
       "    <tr>\n",
       "      <th>17</th>\n",
       "      <td>Adulting</td>\n",
       "      <td>Leasing office is charging me for electricy fo...</td>\n",
       "      <td>So I moved about a month before my lease ended...</td>\n",
       "      <td>Leasing office is charging me for electricy fo...</td>\n",
       "    </tr>\n",
       "    <tr>\n",
       "      <th>18</th>\n",
       "      <td>Adulting</td>\n",
       "      <td>How to walk into a bank and say I want to open...</td>\n",
       "      <td>I know I've probably just answered my own ques...</td>\n",
       "      <td>How to walk into a bank and say I want to open...</td>\n",
       "    </tr>\n",
       "    <tr>\n",
       "      <th>19</th>\n",
       "      <td>Adulting</td>\n",
       "      <td>Why Fewer People Should Go to College</td>\n",
       "      <td></td>\n",
       "      <td>Why Fewer People Should Go to College</td>\n",
       "    </tr>\n",
       "  </tbody>\n",
       "</table>\n",
       "</div>"
      ],
      "text/plain": [
       "   subreddit                                              title  \\\n",
       "0   Adulting  How could i start planning to move out of my p...   \n",
       "1   Adulting                                Stained countertops   \n",
       "2   Adulting        Should I just quit? I really don't want to.   \n",
       "3   Adulting                          Question: Fiancé’s doctor   \n",
       "4   Adulting  How I feel. Also shameless plug. Idk if agains...   \n",
       "5   Adulting  What's *YOUR* personal adulting weekly routine...   \n",
       "6   Adulting                                               Fact   \n",
       "7   Adulting   24, autistic and trans. Complete failure in life   \n",
       "8   Adulting  19 years old feeling like a failure in life an...   \n",
       "9   Adulting        I didn’t do my taxes this year....now what?   \n",
       "10  Adulting                    How do I go about buying a car?   \n",
       "11  Adulting              I feel like I am failing life. (22 F)   \n",
       "12  Adulting  When you order a cafe con leche 30 minutes bef...   \n",
       "13  Adulting                               Drilling into a wall   \n",
       "14  Adulting  Adulting with Jane Ep. 1: \"Changing a Tire\" wi...   \n",
       "15  Adulting  What would be a good amount of money to have i...   \n",
       "16  Adulting  Should I finish my degree on time or get a job...   \n",
       "17  Adulting  Leasing office is charging me for electricy fo...   \n",
       "18  Adulting  How to walk into a bank and say I want to open...   \n",
       "19  Adulting              Why Fewer People Should Go to College   \n",
       "\n",
       "                                             selftext  \\\n",
       "0   I'm 17, 11th grade and finally picking myself ...   \n",
       "1   I live in an apartment that was built in the 6...   \n",
       "2   I(19M) currently work at a Costco in my town, ...   \n",
       "3   So we moved to my fiancé hometown a while back...   \n",
       "4                                                       \n",
       "5   * How many times do you do laundry/vacuum/dust...   \n",
       "6                                                       \n",
       "7   long post incoming\\n\\nI don't know what to do ...   \n",
       "8   1. I failed High School poorly mostly because ...   \n",
       "9   So I didn’t file my taxes this year. Big no-no...   \n",
       "10  Is it a good idea to buy a car from a dealersh...   \n",
       "11  I am new to Reddit so still not sure how it wo...   \n",
       "12                                                      \n",
       "13  I want to put up a curtain pole. I have bought...   \n",
       "14                                                      \n",
       "15  For various reasons (primarily pandemic-relate...   \n",
       "16  I'm stuck right now. I have two paths in front...   \n",
       "17  So I moved about a month before my lease ended...   \n",
       "18  I know I've probably just answered my own ques...   \n",
       "19                                                      \n",
       "\n",
       "                                            user_post  \n",
       "0   How could i start planning to move out of my p...  \n",
       "1   Stained countertops I live in an apartment tha...  \n",
       "2   Should I just quit? I really don't want to. I(...  \n",
       "3   Question: Fiancé’s doctor So we moved to my fi...  \n",
       "4   How I feel. Also shameless plug. Idk if agains...  \n",
       "5   What's *YOUR* personal adulting weekly routine...  \n",
       "6                                               Fact   \n",
       "7   24, autistic and trans. Complete failure in li...  \n",
       "8   19 years old feeling like a failure in life an...  \n",
       "9   I didn’t do my taxes this year....now what? So...  \n",
       "10  How do I go about buying a car? Is it a good i...  \n",
       "11  I feel like I am failing life. (22 F) I am new...  \n",
       "12  When you order a cafe con leche 30 minutes bef...  \n",
       "13  Drilling into a wall I want to put up a curtai...  \n",
       "14  Adulting with Jane Ep. 1: \"Changing a Tire\" wi...  \n",
       "15  What would be a good amount of money to have i...  \n",
       "16  Should I finish my degree on time or get a job...  \n",
       "17  Leasing office is charging me for electricy fo...  \n",
       "18  How to walk into a bank and say I want to open...  \n",
       "19             Why Fewer People Should Go to College   "
      ]
     },
     "execution_count": 11,
     "metadata": {},
     "output_type": "execute_result"
    }
   ],
   "source": [
    "# Visualizing the first 20 rows of the columns I want\n",
    "df[['subreddit', 'title', 'selftext', 'user_post']][0:20]"
   ]
  },
  {
   "cell_type": "code",
   "execution_count": 12,
   "metadata": {},
   "outputs": [],
   "source": [
    "# Setting adulting_df to columns that I would like to use from df\n",
    "adulting_df = df[['subreddit', 'title', 'selftext', 'user_post']]"
   ]
  },
  {
   "cell_type": "code",
   "execution_count": 13,
   "metadata": {},
   "outputs": [],
   "source": [
    "# Cleaning adulting_df removed words\n",
    "adulting_df = adulting_df[adulting_df['selftext'] != '[removed]']\n",
    "#adulting_df['selftext'].fillna(\"N/A\", inplace=True)"
   ]
  },
  {
   "cell_type": "code",
   "execution_count": 14,
   "metadata": {
    "scrolled": true
   },
   "outputs": [
    {
     "data": {
      "text/html": [
       "<div>\n",
       "<style scoped>\n",
       "    .dataframe tbody tr th:only-of-type {\n",
       "        vertical-align: middle;\n",
       "    }\n",
       "\n",
       "    .dataframe tbody tr th {\n",
       "        vertical-align: top;\n",
       "    }\n",
       "\n",
       "    .dataframe thead th {\n",
       "        text-align: right;\n",
       "    }\n",
       "</style>\n",
       "<table border=\"1\" class=\"dataframe\">\n",
       "  <thead>\n",
       "    <tr style=\"text-align: right;\">\n",
       "      <th></th>\n",
       "      <th>subreddit</th>\n",
       "      <th>title</th>\n",
       "      <th>selftext</th>\n",
       "      <th>user_post</th>\n",
       "    </tr>\n",
       "  </thead>\n",
       "  <tbody>\n",
       "    <tr>\n",
       "      <th>1847</th>\n",
       "      <td>Adulting</td>\n",
       "      <td>Anyone down to chill ?</td>\n",
       "      <td>NaN</td>\n",
       "      <td>NaN</td>\n",
       "    </tr>\n",
       "    <tr>\n",
       "      <th>2052</th>\n",
       "      <td>Adulting</td>\n",
       "      <td>Hold the Line</td>\n",
       "      <td>NaN</td>\n",
       "      <td>NaN</td>\n",
       "    </tr>\n",
       "    <tr>\n",
       "      <th>2366</th>\n",
       "      <td>Adulting</td>\n",
       "      <td>My washing/drier machines are down, can’t go t...</td>\n",
       "      <td>NaN</td>\n",
       "      <td>NaN</td>\n",
       "    </tr>\n",
       "    <tr>\n",
       "      <th>2431</th>\n",
       "      <td>Adulting</td>\n",
       "      <td>Car insurance expired after accident.</td>\n",
       "      <td>NaN</td>\n",
       "      <td>NaN</td>\n",
       "    </tr>\n",
       "    <tr>\n",
       "      <th>2446</th>\n",
       "      <td>Adulting</td>\n",
       "      <td>I’m flying by myself for the first time in a c...</td>\n",
       "      <td>NaN</td>\n",
       "      <td>NaN</td>\n",
       "    </tr>\n",
       "    <tr>\n",
       "      <th>3025</th>\n",
       "      <td>Adulting</td>\n",
       "      <td>How can I live on my own or at least move out ...</td>\n",
       "      <td>NaN</td>\n",
       "      <td>NaN</td>\n",
       "    </tr>\n",
       "    <tr>\n",
       "      <th>3079</th>\n",
       "      <td>Adulting</td>\n",
       "      <td>Little known great careers?</td>\n",
       "      <td>NaN</td>\n",
       "      <td>NaN</td>\n",
       "    </tr>\n",
       "  </tbody>\n",
       "</table>\n",
       "</div>"
      ],
      "text/plain": [
       "     subreddit                                              title selftext  \\\n",
       "1847  Adulting                             Anyone down to chill ?      NaN   \n",
       "2052  Adulting                                      Hold the Line      NaN   \n",
       "2366  Adulting  My washing/drier machines are down, can’t go t...      NaN   \n",
       "2431  Adulting              Car insurance expired after accident.      NaN   \n",
       "2446  Adulting  I’m flying by myself for the first time in a c...      NaN   \n",
       "3025  Adulting  How can I live on my own or at least move out ...      NaN   \n",
       "3079  Adulting                        Little known great careers?      NaN   \n",
       "\n",
       "     user_post  \n",
       "1847       NaN  \n",
       "2052       NaN  \n",
       "2366       NaN  \n",
       "2431       NaN  \n",
       "2446       NaN  \n",
       "3025       NaN  \n",
       "3079       NaN  "
      ]
     },
     "execution_count": 14,
     "metadata": {},
     "output_type": "execute_result"
    }
   ],
   "source": [
    "# Visualizing rows that need to be cleaned/removed\n",
    "adulting_df[adulting_df['selftext'].isnull()]"
   ]
  },
  {
   "cell_type": "code",
   "execution_count": 15,
   "metadata": {},
   "outputs": [],
   "source": [
    "# Removing na values from adulting_df\n",
    "adulting_df.dropna(inplace=True)"
   ]
  },
  {
   "cell_type": "code",
   "execution_count": 16,
   "metadata": {
    "scrolled": true
   },
   "outputs": [
    {
     "data": {
      "text/plain": [
       "subreddit    0\n",
       "title        0\n",
       "selftext     0\n",
       "user_post    0\n",
       "dtype: int64"
      ]
     },
     "execution_count": 16,
     "metadata": {},
     "output_type": "execute_result"
    }
   ],
   "source": [
    "# Visualize how many rows are NA\n",
    "adulting_df.isnull().sum()"
   ]
  },
  {
   "cell_type": "code",
   "execution_count": 17,
   "metadata": {},
   "outputs": [],
   "source": [
    "# Setting CVEC model with dataframe['title and selftext']\n",
    "X = adulting_df['user_post']\n",
    "# Instantiate countvectorizer\n",
    "cvec = CountVectorizer()\n",
    "# Fitting X on countvectorizer\n",
    "cvec.fit(X)\n",
    "# Setting variable X as transformed X data\n",
    "X = cvec.transform(X)"
   ]
  },
  {
   "cell_type": "code",
   "execution_count": 18,
   "metadata": {
    "scrolled": false
   },
   "outputs": [],
   "source": [
    "# Setting dataframe from cvec model\n",
    "X_df = pd.DataFrame(X.todense(), columns = cvec.get_feature_names())"
   ]
  },
  {
   "cell_type": "code",
   "execution_count": 19,
   "metadata": {},
   "outputs": [
    {
     "data": {
      "text/plain": [
       "(4688, 16461)"
      ]
     },
     "execution_count": 19,
     "metadata": {},
     "output_type": "execute_result"
    }
   ],
   "source": [
    "# Finding middle point where our words will really start to differ between subreddits.\n",
    "X_df.shape"
   ]
  },
  {
   "cell_type": "code",
   "execution_count": 20,
   "metadata": {
    "scrolled": true
   },
   "outputs": [
    {
     "data": {
      "text/plain": [
       "future         129\n",
       "university     129\n",
       "store          128\n",
       "reddit         128\n",
       "interview      128\n",
       "share          127\n",
       "often          127\n",
       "roommate       126\n",
       "minutes        125\n",
       "eat            124\n",
       "email          123\n",
       "personal       123\n",
       "medical        123\n",
       "turn           123\n",
       "graduate       123\n",
       "advance        122\n",
       "business       122\n",
       "happy          122\n",
       "turned         122\n",
       "wish           122\n",
       "laundry        122\n",
       "talking        120\n",
       "lived          120\n",
       "25             120\n",
       "short          120\n",
       "three          120\n",
       "town           120\n",
       "gotten         120\n",
       "sort           119\n",
       "called         119\n",
       "gets           118\n",
       "single         118\n",
       "score          118\n",
       "100            117\n",
       "quit           116\n",
       "renting        116\n",
       "stuck          115\n",
       "loans          115\n",
       "read           115\n",
       "information    114\n",
       "financial      114\n",
       "list           114\n",
       "cooking        113\n",
       "field          113\n",
       "bring          113\n",
       "budget         113\n",
       "000            113\n",
       "cook           113\n",
       "couldn         112\n",
       "mean           112\n",
       "dtype: int64"
      ]
     },
     "execution_count": 20,
     "metadata": {},
     "output_type": "execute_result"
    }
   ],
   "source": [
    "# The top words are going to be commonly used words (to, what, how, why)\n",
    "X_df.sum().sort_values(ascending=False)[475:525]"
   ]
  },
  {
   "cell_type": "markdown",
   "metadata": {},
   "source": [
    "### Export To CSV"
   ]
  },
  {
   "cell_type": "code",
   "execution_count": 21,
   "metadata": {},
   "outputs": [],
   "source": [
    "# Exporting adulting_df to datasets. Used with teenagers_df to create a merged DF.\n",
    "adulting_df.to_csv('./data/adulting_subreddit.csv', index=False)"
   ]
  }
 ],
 "metadata": {
  "kernelspec": {
   "display_name": "Python 3",
   "language": "python",
   "name": "python3"
  },
  "language_info": {
   "codemirror_mode": {
    "name": "ipython",
    "version": 3
   },
   "file_extension": ".py",
   "mimetype": "text/x-python",
   "name": "python",
   "nbconvert_exporter": "python",
   "pygments_lexer": "ipython3",
   "version": "3.7.9"
  }
 },
 "nbformat": 4,
 "nbformat_minor": 4
}
